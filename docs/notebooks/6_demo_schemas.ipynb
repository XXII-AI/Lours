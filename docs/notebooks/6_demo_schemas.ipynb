{
 "cells": [
  {
   "cell_type": "markdown",
   "id": "6ab66bc0-91d6-493f-9efd-baaaa9a37829",
   "metadata": {},
   "source": [
    "# Schemas mechanics\n",
    "\n",
    "The Caipy loader features a way to parse the caipyjson and efficiently transform into column-wise data which is more compatible with pandas.\n",
    "\n",
    "The schemas will help check caipy json structure, automatically normalize the data so that it's not nested anymore, and will booleanize the sets. See related tutorial about booleanization here : [Demo booleanization](7_demo_booleanize.ipynb)\n",
    "\n",
    "## What is a schemas ?\n",
    "\n",
    "A schemas is way to specify data structure. For each key of an object is given its type. It can be a string, a float, to more complexe types like lists and objects themselves. That ways you can specify how should the data be nested.\n",
    "\n",
    "See more info about json schemas in the [official documentation](https://json-schema.org/specification)\n",
    "\n",
    "This library provides a default schema but you can provide your own schema as well with a path or a url.\n",
    "\n",
    ".. nbinfo::\n",
    "    For a better readability, we use mercury's [JSON displayer](https://runmercury.com/examples/display-json-jupyter-notebook/), but you can simply replace `mr.JSON` with `display` for every shown dictionary\n"
   ]
  },
  {
   "cell_type": "code",
   "execution_count": 1,
   "id": "de814ecb-25c8-454d-8081-094a53e37dc0",
   "metadata": {},
   "outputs": [],
   "source": [
    "%%capture\n",
    "\n",
    "%load_ext autoreload\n",
    "%autoreload 2\n",
    "import json\n",
    "\n",
    "import mercury as mr\n",
    "\n",
    "from lours.dataset.io.schema_util import load_json_schema\n",
    "\n",
    "app = mr.App(title=\"Display notebook\", static_notebook=True)"
   ]
  },
  {
   "cell_type": "code",
   "execution_count": 2,
   "id": "9f4eb685-6f28-4f36-a9f8-1c5d79e15412",
   "metadata": {},
   "outputs": [
    {
     "data": {
      "text/html": [
       "<style>.renderjson a              { text-decoration: none; }\n",
       ".renderjson .disclosure    { color: grey; font-size: 125%; }\n",
       ".renderjson .syntax        { color: grey; }\n",
       ".renderjson .string        { color: #fe46a5; }\n",
       ".renderjson .number        { color: #0f9b8e; }\n",
       ".renderjson .boolean       { color: black; }\n",
       ".renderjson .key           { color: #2684ff; }\n",
       ".renderjson .keyword       { color: gray; }\n",
       ".renderjson .object.syntax { color: gray; }\n",
       ".renderjson .array.syntax  { color: gray; }</style><div id=\"64ed6fe0-2c24-4d6b-b1e8-37cbcbfec5f8\"></div>"
      ],
      "text/plain": [
       "<IPython.core.display.HTML object>"
      ]
     },
     "metadata": {},
     "output_type": "display_data"
    },
    {
     "data": {
      "text/html": [
       "<script>var renderjson=function(){var t=function(){for(var t=[];arguments.length;)t.push(n(s(Array.prototype.shift.call(arguments)),o(Array.prototype.shift.call(arguments))));return t},n=function(){for(var t=Array.prototype.shift.call(arguments),e=0;e<arguments.length;e++)arguments[e].constructor==Array?n.apply(this,[t].concat(arguments[e])):t.appendChild(arguments[e]);return t},e=function(t,n){return t.insertBefore(n,t.firstChild),t},r=function(t,n){var e=n||Object.keys(t);for(var r in e)if(Object.hasOwnProperty.call(t,e[r]))return!1;return!0},o=function(t){return document.createTextNode(t)},s=function(t){var n=document.createElement(\"span\");return t&&(n.className=t),n},l=function(t,n,e){var r=document.createElement(\"a\");return n&&(r.className=n),r.appendChild(o(t)),r.href=\"#\",r.onclick=function(t){return e(),t&&t.stopPropagation(),!1},r};function a(i,c,u,p,y){var _=u?\"\":c,f=function(r,a,i,c,u){var f,g=s(c),h=function(){f||n(g.parentNode,f=e(u(),l(y.hide,\"disclosure\",(function(){f.style.display=\"none\",g.style.display=\"inline\"})))),f.style.display=\"inline\",g.style.display=\"none\"};n(g,l(y.show,\"disclosure\",h),t(c+\" syntax\",r),l(a,null,h),t(c+\" syntax\",i));var d=n(s(),o(_.slice(0,-1)),g);return p>0&&\"string\"!=c&&h(),d};return null===i?t(null,_,\"keyword\",\"null\"):void 0===i?t(null,_,\"keyword\",\"undefined\"):\"string\"==typeof i&&i.length>y.max_string_length?f('\"',i.substr(0,y.max_string_length)+\" ...\",'\"',\"string\",(function(){return n(s(\"string\"),t(null,_,\"string\",JSON.stringify(i)))})):\"object\"!=typeof i||[Number,String,Boolean,Date].indexOf(i.constructor)>=0?t(null,_,typeof i,JSON.stringify(i)):i.constructor==Array?0==i.length?t(null,_,\"array syntax\",\"[]\"):f(\"[\",y.collapse_msg(i.length),\"]\",\"array\",(function(){for(var e=n(s(\"array\"),t(\"array syntax\",\"[\",null,\"\\n\")),r=0;r<i.length;r++)n(e,a(y.replacer.call(i,r,i[r]),c+\"    \",!1,p-1,y),r!=i.length-1?t(\"syntax\",\",\"):[],o(\"\\n\"));return n(e,t(null,c,\"array syntax\",\"]\")),e})):r(i,y.property_list)?t(null,_,\"object syntax\",\"{}\"):f(\"{\",y.collapse_msg(Object.keys(i).length),\"}\",\"object\",(function(){var e=n(s(\"object\"),t(\"object syntax\",\"{\",null,\"\\n\"));for(var r in i)var l=r;var u=y.property_list||Object.keys(i);for(var _ in y.sort_objects&&(u=u.sort()),u){(r=u[_])in i&&n(e,t(null,c+\"    \",\"key\",'\"'+r+'\"',\"object syntax\",\": \"),a(y.replacer.call(i,r,i[r]),c+\"    \",!0,p-1,y),r!=l?t(\"syntax\",\",\"):[],o(\"\\n\"))}return n(e,t(null,c,\"object syntax\",\"}\")),e}))}var i=function t(e){var r=new Object(t.options);r.replacer=\"function\"==typeof r.replacer?r.replacer:function(t,n){return n};var o=n(document.createElement(\"pre\"),a(e,\"\",!1,r.show_to_level,r));return o.className=\"renderjson\",o};return i.set_icons=function(t,n){return i.options.show=t,i.options.hide=n,i},i.set_show_to_level=function(t){return i.options.show_to_level=\"string\"==typeof t&&\"all\"===t.toLowerCase()?Number.MAX_VALUE:t,i},i.set_max_string_length=function(t){return i.options.max_string_length=\"string\"==typeof t&&\"none\"===t.toLowerCase()?Number.MAX_VALUE:t,i},i.set_sort_objects=function(t){return i.options.sort_objects=t,i},i.set_replacer=function(t){return i.options.replacer=t,i},i.set_collapse_msg=function(t){return i.options.collapse_msg=t,i},i.set_property_list=function(t){return i.options.property_list=t,i},i.set_show_by_default=function(t){return i.options.show_to_level=t?Number.MAX_VALUE:0,i},i.options={},i.set_icons(\"⊕\",\"⊖\"),i.set_show_by_default(!1),i.set_sort_objects(!1),i.set_max_string_length(\"none\"),i.set_replacer(void 0),i.set_property_list(void 0),i.set_collapse_msg((function(t){return t+\" item\"+(1==t?\"\":\"s\")})),i}(); renderjson.set_show_to_level(1); document.getElementById(\"64ed6fe0-2c24-4d6b-b1e8-37cbcbfec5f8\").appendChild(renderjson({\"$schema\": \"http://json-schema.org/draft-07/schema#\", \"$id\": \"https://github.com/XXII-AI/Lours\", \"type\": \"object\", \"properties\": {\"image\": {\"type\": \"object\", \"properties\": {\"file_name\": {\"type\": \"string\"}, \"id\": {\"type\": \"integer\", \"minimum\": 0}, \"width\": {\"type\": \"integer\", \"minimum\": 0}, \"height\": {\"type\": \"integer\", \"minimum\": 0}, \"tags\": {\"type\": \"object\", \"properties\": {\"time\": {\"enum\": [\"day\", \"night\"]}, \"weather\": {\"enum\": [\"rainy\", \"sunny\", \"snowy\", \"foggy\", \"cloudy\", \"clear\"]}}}}, \"required\": [\"file_name\", \"id\", \"width\", \"height\"]}, \"annotations\": {\"type\": \"array\", \"items\": {\"type\": \"object\", \"properties\": {\"id\": {\"type\": \"integer\", \"minimum\": 0}, \"parent_id\": {\"type\": \"integer\", \"minimum\": 0}, \"children_ids\": {\"type\": \"array\", \"items\": {\"type\": \"integer\", \"minimum\": 0}, \"uniqueItems\": true}, \"tracking_id\": {\"type\": \"integer\", \"minimum\": 0}, \"category_id\": {\"type\": \"integer\", \"minimum\": 0}, \"category_str\": {\"type\": \"string\"}, \"confidence\": {\"type\": \"number\", \"minimum\": 0, \"maximum\": 1}, \"bbox\": {\"type\": \"array\", \"items\": {\"type\": \"number\", \"minimum\": 0}, \"minItems\": 2, \"maxItems\": 4}, \"attributes\": {\"type\": \"object\", \"properties\": {\"colors\": {\"type\": \"array\", \"items\": {\"enum\": [\"red\", \"green\", \"yellow\", \"blue\", \"white\", \"black\", \"orange\", \"purple\", \"grey\", \"brown\", \"pink\", \"beige\", \"cyan\"]}, \"uniqueItems\": true}, \"position\": {\"type\": \"array\", \"items\": {\"enum\": [\"side\", \"front\", \"top\", \"back\", \"unknown\"]}, \"uniqueItems\": true}, \"occluded\": {\"type\": \"boolean\"}}}}, \"required\": [\"id\", \"category_id\", \"bbox\"]}}}}))</script>"
      ],
      "text/plain": [
       "<IPython.core.display.HTML object>"
      ]
     },
     "metadata": {},
     "output_type": "display_data"
    }
   ],
   "source": [
    "default_caipy_schema = load_json_schema(\"default\")\n",
    "# Show the json with mercury, for better readability\n",
    "mr.JSON(default_caipy_schema)"
   ]
  },
  {
   "cell_type": "markdown",
   "id": "09257084-56fe-4b17-be6f-28c65585a7a3",
   "metadata": {},
   "source": [
    "The interesting types for us are\n",
    "- `enum` which can be converted to [pandas categorical](https://pandas.pydata.org/docs/user_guide/categorical.html)\n",
    "- `array`, with the `uniqueItems` set to `True`, this can be seen as an unordered set and thus can be [booleanized](7_demo_booleanize.ipynb)\n",
    "- `object` this tells us that data is nested and thus need to be normalized. For example, the `weather` tag for images is inside the `tags` object. In the images dataframe, this will go in the `tags.weather` column.\n",
    "\n",
    "In the future, we might have to deal with `array` object that are not ordered sets. They can be converted to categorical data within the columns `array.1`, `array.2` etc, but there is no support for it for the moment.\n",
    "\n",
    "### Data checking\n",
    "\n",
    "The first obvious use of schemas is for validation.\n",
    "\n",
    "For example the following data structure is rejected because the value `custom_dict[\"annotations\"][0][\"attributes\"][\"colors\"]` is set to `turquoise` while it must be on of the following values, that are specified in the schema: `custom_caipy_schema[\"properties\"][\"annotations\"][\"items\"][\"properties\"][\"attributes\"][\"properties\"][\"colors\"][\"items\"][\"enum\"]`"
   ]
  },
  {
   "cell_type": "code",
   "execution_count": 3,
   "id": "5e3c191a-6141-43e6-ad28-72b5dd295963",
   "metadata": {},
   "outputs": [
    {
     "data": {
      "text/html": [
       "<style>.renderjson a              { text-decoration: none; }\n",
       ".renderjson .disclosure    { color: grey; font-size: 125%; }\n",
       ".renderjson .syntax        { color: grey; }\n",
       ".renderjson .string        { color: #fe46a5; }\n",
       ".renderjson .number        { color: #0f9b8e; }\n",
       ".renderjson .boolean       { color: black; }\n",
       ".renderjson .key           { color: #2684ff; }\n",
       ".renderjson .keyword       { color: gray; }\n",
       ".renderjson .object.syntax { color: gray; }\n",
       ".renderjson .array.syntax  { color: gray; }</style><div id=\"6ca9f87d-ea07-4d6f-b6ce-c6f9b2fe17ff\"></div>"
      ],
      "text/plain": [
       "<IPython.core.display.HTML object>"
      ]
     },
     "metadata": {},
     "output_type": "display_data"
    },
    {
     "data": {
      "text/html": [
       "<script>var renderjson=function(){var t=function(){for(var t=[];arguments.length;)t.push(n(s(Array.prototype.shift.call(arguments)),o(Array.prototype.shift.call(arguments))));return t},n=function(){for(var t=Array.prototype.shift.call(arguments),e=0;e<arguments.length;e++)arguments[e].constructor==Array?n.apply(this,[t].concat(arguments[e])):t.appendChild(arguments[e]);return t},e=function(t,n){return t.insertBefore(n,t.firstChild),t},r=function(t,n){var e=n||Object.keys(t);for(var r in e)if(Object.hasOwnProperty.call(t,e[r]))return!1;return!0},o=function(t){return document.createTextNode(t)},s=function(t){var n=document.createElement(\"span\");return t&&(n.className=t),n},l=function(t,n,e){var r=document.createElement(\"a\");return n&&(r.className=n),r.appendChild(o(t)),r.href=\"#\",r.onclick=function(t){return e(),t&&t.stopPropagation(),!1},r};function a(i,c,u,p,y){var _=u?\"\":c,f=function(r,a,i,c,u){var f,g=s(c),h=function(){f||n(g.parentNode,f=e(u(),l(y.hide,\"disclosure\",(function(){f.style.display=\"none\",g.style.display=\"inline\"})))),f.style.display=\"inline\",g.style.display=\"none\"};n(g,l(y.show,\"disclosure\",h),t(c+\" syntax\",r),l(a,null,h),t(c+\" syntax\",i));var d=n(s(),o(_.slice(0,-1)),g);return p>0&&\"string\"!=c&&h(),d};return null===i?t(null,_,\"keyword\",\"null\"):void 0===i?t(null,_,\"keyword\",\"undefined\"):\"string\"==typeof i&&i.length>y.max_string_length?f('\"',i.substr(0,y.max_string_length)+\" ...\",'\"',\"string\",(function(){return n(s(\"string\"),t(null,_,\"string\",JSON.stringify(i)))})):\"object\"!=typeof i||[Number,String,Boolean,Date].indexOf(i.constructor)>=0?t(null,_,typeof i,JSON.stringify(i)):i.constructor==Array?0==i.length?t(null,_,\"array syntax\",\"[]\"):f(\"[\",y.collapse_msg(i.length),\"]\",\"array\",(function(){for(var e=n(s(\"array\"),t(\"array syntax\",\"[\",null,\"\\n\")),r=0;r<i.length;r++)n(e,a(y.replacer.call(i,r,i[r]),c+\"    \",!1,p-1,y),r!=i.length-1?t(\"syntax\",\",\"):[],o(\"\\n\"));return n(e,t(null,c,\"array syntax\",\"]\")),e})):r(i,y.property_list)?t(null,_,\"object syntax\",\"{}\"):f(\"{\",y.collapse_msg(Object.keys(i).length),\"}\",\"object\",(function(){var e=n(s(\"object\"),t(\"object syntax\",\"{\",null,\"\\n\"));for(var r in i)var l=r;var u=y.property_list||Object.keys(i);for(var _ in y.sort_objects&&(u=u.sort()),u){(r=u[_])in i&&n(e,t(null,c+\"    \",\"key\",'\"'+r+'\"',\"object syntax\",\": \"),a(y.replacer.call(i,r,i[r]),c+\"    \",!0,p-1,y),r!=l?t(\"syntax\",\",\"):[],o(\"\\n\"))}return n(e,t(null,c,\"object syntax\",\"}\")),e}))}var i=function t(e){var r=new Object(t.options);r.replacer=\"function\"==typeof r.replacer?r.replacer:function(t,n){return n};var o=n(document.createElement(\"pre\"),a(e,\"\",!1,r.show_to_level,r));return o.className=\"renderjson\",o};return i.set_icons=function(t,n){return i.options.show=t,i.options.hide=n,i},i.set_show_to_level=function(t){return i.options.show_to_level=\"string\"==typeof t&&\"all\"===t.toLowerCase()?Number.MAX_VALUE:t,i},i.set_max_string_length=function(t){return i.options.max_string_length=\"string\"==typeof t&&\"none\"===t.toLowerCase()?Number.MAX_VALUE:t,i},i.set_sort_objects=function(t){return i.options.sort_objects=t,i},i.set_replacer=function(t){return i.options.replacer=t,i},i.set_collapse_msg=function(t){return i.options.collapse_msg=t,i},i.set_property_list=function(t){return i.options.property_list=t,i},i.set_show_by_default=function(t){return i.options.show_to_level=t?Number.MAX_VALUE:0,i},i.options={},i.set_icons(\"⊕\",\"⊖\"),i.set_show_by_default(!1),i.set_sort_objects(!1),i.set_max_string_length(\"none\"),i.set_replacer(void 0),i.set_property_list(void 0),i.set_collapse_msg((function(t){return t+\" item\"+(1==t?\"\":\"s\")})),i}(); renderjson.set_show_to_level(1); document.getElementById(\"6ca9f87d-ea07-4d6f-b6ce-c6f9b2fe17ff\").appendChild(renderjson({\"image\": {\"id\": 200, \"file_name\": \"785.jpg\", \"height\": 427, \"width\": 640, \"tags\": {\"weather\": \"sunny\", \"time\": \"day\"}}, \"type\": \"instances\", \"annotations\": [{\"id\": 0, \"category_id\": 2, \"category_str\": \"person\", \"bbox\": [1256, 202, 59, 47], \"attributes\": {\"colors\": [\"blue\", \"turquoise\"], \"occluded\": true}, \"parent_id\": 1, \"confidence\": 0.5}, {\"id\": 1, \"category_id\": 800, \"category_str\": \"head\", \"bbox\": [1256, 202, 59, 47], \"attributes\": {\"position\": [\"side\"]}, \"children_ids\": [0]}]}))</script>"
      ],
      "text/plain": [
       "<IPython.core.display.HTML object>"
      ]
     },
     "metadata": {},
     "output_type": "display_data"
    },
    {
     "data": {
      "text/html": [
       "<style>.renderjson a              { text-decoration: none; }\n",
       ".renderjson .disclosure    { color: grey; font-size: 125%; }\n",
       ".renderjson .syntax        { color: grey; }\n",
       ".renderjson .string        { color: #fe46a5; }\n",
       ".renderjson .number        { color: #0f9b8e; }\n",
       ".renderjson .boolean       { color: black; }\n",
       ".renderjson .key           { color: #2684ff; }\n",
       ".renderjson .keyword       { color: gray; }\n",
       ".renderjson .object.syntax { color: gray; }\n",
       ".renderjson .array.syntax  { color: gray; }</style><div id=\"fc86fbe8-bdeb-4350-be48-5f0ecd19f8ed\"></div>"
      ],
      "text/plain": [
       "<IPython.core.display.HTML object>"
      ]
     },
     "metadata": {},
     "output_type": "display_data"
    },
    {
     "data": {
      "text/html": [
       "<script>var renderjson=function(){var t=function(){for(var t=[];arguments.length;)t.push(n(s(Array.prototype.shift.call(arguments)),o(Array.prototype.shift.call(arguments))));return t},n=function(){for(var t=Array.prototype.shift.call(arguments),e=0;e<arguments.length;e++)arguments[e].constructor==Array?n.apply(this,[t].concat(arguments[e])):t.appendChild(arguments[e]);return t},e=function(t,n){return t.insertBefore(n,t.firstChild),t},r=function(t,n){var e=n||Object.keys(t);for(var r in e)if(Object.hasOwnProperty.call(t,e[r]))return!1;return!0},o=function(t){return document.createTextNode(t)},s=function(t){var n=document.createElement(\"span\");return t&&(n.className=t),n},l=function(t,n,e){var r=document.createElement(\"a\");return n&&(r.className=n),r.appendChild(o(t)),r.href=\"#\",r.onclick=function(t){return e(),t&&t.stopPropagation(),!1},r};function a(i,c,u,p,y){var _=u?\"\":c,f=function(r,a,i,c,u){var f,g=s(c),h=function(){f||n(g.parentNode,f=e(u(),l(y.hide,\"disclosure\",(function(){f.style.display=\"none\",g.style.display=\"inline\"})))),f.style.display=\"inline\",g.style.display=\"none\"};n(g,l(y.show,\"disclosure\",h),t(c+\" syntax\",r),l(a,null,h),t(c+\" syntax\",i));var d=n(s(),o(_.slice(0,-1)),g);return p>0&&\"string\"!=c&&h(),d};return null===i?t(null,_,\"keyword\",\"null\"):void 0===i?t(null,_,\"keyword\",\"undefined\"):\"string\"==typeof i&&i.length>y.max_string_length?f('\"',i.substr(0,y.max_string_length)+\" ...\",'\"',\"string\",(function(){return n(s(\"string\"),t(null,_,\"string\",JSON.stringify(i)))})):\"object\"!=typeof i||[Number,String,Boolean,Date].indexOf(i.constructor)>=0?t(null,_,typeof i,JSON.stringify(i)):i.constructor==Array?0==i.length?t(null,_,\"array syntax\",\"[]\"):f(\"[\",y.collapse_msg(i.length),\"]\",\"array\",(function(){for(var e=n(s(\"array\"),t(\"array syntax\",\"[\",null,\"\\n\")),r=0;r<i.length;r++)n(e,a(y.replacer.call(i,r,i[r]),c+\"    \",!1,p-1,y),r!=i.length-1?t(\"syntax\",\",\"):[],o(\"\\n\"));return n(e,t(null,c,\"array syntax\",\"]\")),e})):r(i,y.property_list)?t(null,_,\"object syntax\",\"{}\"):f(\"{\",y.collapse_msg(Object.keys(i).length),\"}\",\"object\",(function(){var e=n(s(\"object\"),t(\"object syntax\",\"{\",null,\"\\n\"));for(var r in i)var l=r;var u=y.property_list||Object.keys(i);for(var _ in y.sort_objects&&(u=u.sort()),u){(r=u[_])in i&&n(e,t(null,c+\"    \",\"key\",'\"'+r+'\"',\"object syntax\",\": \"),a(y.replacer.call(i,r,i[r]),c+\"    \",!0,p-1,y),r!=l?t(\"syntax\",\",\"):[],o(\"\\n\"))}return n(e,t(null,c,\"object syntax\",\"}\")),e}))}var i=function t(e){var r=new Object(t.options);r.replacer=\"function\"==typeof r.replacer?r.replacer:function(t,n){return n};var o=n(document.createElement(\"pre\"),a(e,\"\",!1,r.show_to_level,r));return o.className=\"renderjson\",o};return i.set_icons=function(t,n){return i.options.show=t,i.options.hide=n,i},i.set_show_to_level=function(t){return i.options.show_to_level=\"string\"==typeof t&&\"all\"===t.toLowerCase()?Number.MAX_VALUE:t,i},i.set_max_string_length=function(t){return i.options.max_string_length=\"string\"==typeof t&&\"none\"===t.toLowerCase()?Number.MAX_VALUE:t,i},i.set_sort_objects=function(t){return i.options.sort_objects=t,i},i.set_replacer=function(t){return i.options.replacer=t,i},i.set_collapse_msg=function(t){return i.options.collapse_msg=t,i},i.set_property_list=function(t){return i.options.property_list=t,i},i.set_show_by_default=function(t){return i.options.show_to_level=t?Number.MAX_VALUE:0,i},i.options={},i.set_icons(\"⊕\",\"⊖\"),i.set_show_by_default(!1),i.set_sort_objects(!1),i.set_max_string_length(\"none\"),i.set_replacer(void 0),i.set_property_list(void 0),i.set_collapse_msg((function(t){return t+\" item\"+(1==t?\"\":\"s\")})),i}(); renderjson.set_show_to_level(1); document.getElementById(\"fc86fbe8-bdeb-4350-be48-5f0ecd19f8ed\").appendChild(renderjson(['red', 'green', 'yellow', 'blue', 'white', 'black', 'orange', 'purple', 'grey', 'brown', 'pink', 'beige', 'cyan']))</script>"
      ],
      "text/plain": [
       "<IPython.core.display.HTML object>"
      ]
     },
     "metadata": {},
     "output_type": "display_data"
    }
   ],
   "source": [
    "with open(\"../../test_lours/test_data/caipy_dataset/tags/custom_schema/785.json\") as f:\n",
    "    custom_dict = json.load(f)\n",
    "\n",
    "mr.JSON(custom_dict)\n",
    "\n",
    "mr.JSON(\n",
    "    default_caipy_schema[\"properties\"][\"annotations\"][\"items\"][\"properties\"][\n",
    "        \"attributes\"\n",
    "    ][\"properties\"][\"colors\"][\"items\"][\"enum\"]\n",
    ")"
   ]
  },
  {
   "cell_type": "code",
   "execution_count": null,
   "id": "22741882-a848-411f-8329-1b3163917dd9",
   "metadata": {
    "tags": [
     "raises-exception"
    ]
   },
   "outputs": [
    {
     "ename": "ValidationError",
     "evalue": "\"turquoise\" is not one of [\"red\",\"green\",\"yellow\",\"blue\",\"white\",\"black\",\"orange\",\"purple\",\"grey\",\"brown\",\"pink\",\"beige\",\"cyan\"]\n\nFailed validating \"enum\" in schema[\"properties\"][\"annotations\"][\"items\"][\"properties\"][\"attributes\"][\"properties\"][\"colors\"][\"items\"]\n\nOn instance[\"annotations\"][0][\"attributes\"][\"colors\"][1]:\n    \"turquoise\"",
     "output_type": "error",
     "traceback": [
      "\u001b[0;31m---------------------------------------------------------------------------\u001b[0m",
      "\u001b[0;31mValidationError\u001b[0m                           Traceback (most recent call last)",
      "Cell \u001b[0;32mIn[4], line 5\u001b[0m\n\u001b[1;32m      1\u001b[0m \u001b[38;5;28;01mfrom\u001b[39;00m \u001b[38;5;21;01mjsonschema_rs\u001b[39;00m \u001b[38;5;28;01mimport\u001b[39;00m JSONSchema\n\u001b[1;32m      3\u001b[0m validator \u001b[38;5;241m=\u001b[39m JSONSchema(default_caipy_schema)\n\u001b[0;32m----> 5\u001b[0m \u001b[43mvalidator\u001b[49m\u001b[38;5;241;43m.\u001b[39;49m\u001b[43mvalidate\u001b[49m\u001b[43m(\u001b[49m\u001b[43mcustom_dict\u001b[49m\u001b[43m)\u001b[49m\n",
      "\u001b[0;31mValidationError\u001b[0m: \"turquoise\" is not one of [\"red\",\"green\",\"yellow\",\"blue\",\"white\",\"black\",\"orange\",\"purple\",\"grey\",\"brown\",\"pink\",\"beige\",\"cyan\"]\n\nFailed validating \"enum\" in schema[\"properties\"][\"annotations\"][\"items\"][\"properties\"][\"attributes\"][\"properties\"][\"colors\"][\"items\"]\n\nOn instance[\"annotations\"][0][\"attributes\"][\"colors\"][1]:\n    \"turquoise\""
     ]
    }
   ],
   "source": [
    "from jsonschema_rs import validator_for\n",
    "\n",
    "validator = validator_for(default_caipy_schema)\n",
    "\n",
    "validator.validate(custom_dict)"
   ]
  },
  {
   "cell_type": "markdown",
   "id": "36e70901-4c47-4390-aecf-ac16b3266bf4",
   "metadata": {},
   "source": [
    "### list and enum formatting\n",
    "\n",
    "As mentioned above, we can use the schemas to construct dataframe with the right columns and dtypes, even if some values are not present.\n",
    "\n",
    "A regular caveat is the mix of fields that are present in some annotations but not in others. Pandas deals with missing values with `NaN` and `None`, but we can replace them with the right default value. For example, if we know that a field is a list, we can give it the empty list as default value."
   ]
  },
  {
   "cell_type": "code",
   "execution_count": 5,
   "id": "9034c67e-7f95-4468-9481-d4cec283d6c7",
   "metadata": {},
   "outputs": [],
   "source": [
    "from lours.dataset.io.schema_util import (\n",
    "    fill_with_dtypes_and_default_value,\n",
    "    get_enums,\n",
    "    get_remapping_dict_from_schema,\n",
    ")\n",
    "\n",
    "image_schema = default_caipy_schema[\"properties\"][\"image\"]\n",
    "annotations_schema = default_caipy_schema[\"properties\"][\"annotations\"][\"items\"]"
   ]
  },
  {
   "cell_type": "markdown",
   "id": "9bca5efe-2068-44fe-a4d6-b4543f69a319",
   "metadata": {},
   "source": [
    "To better understand the flattening of the data, we can look at some utility function with schemas.\n",
    "\n",
    "`get_remapping_dict_from_schema` function will construct a nested dict where the values are the column name destination.\n",
    "\n",
    "`get_enums` will search for arrays with unique items and retrieve all possible values. This will be used to construct boolean columns which tell us for each enum if it was in the original list for this very row."
   ]
  },
  {
   "cell_type": "code",
   "execution_count": 6,
   "id": "3e797653-948a-4a9c-a33d-c3e837b52c15",
   "metadata": {},
   "outputs": [
    {
     "data": {
      "text/html": [
       "<style>.renderjson a              { text-decoration: none; }\n",
       ".renderjson .disclosure    { color: grey; font-size: 125%; }\n",
       ".renderjson .syntax        { color: grey; }\n",
       ".renderjson .string        { color: #fe46a5; }\n",
       ".renderjson .number        { color: #0f9b8e; }\n",
       ".renderjson .boolean       { color: black; }\n",
       ".renderjson .key           { color: #2684ff; }\n",
       ".renderjson .keyword       { color: gray; }\n",
       ".renderjson .object.syntax { color: gray; }\n",
       ".renderjson .array.syntax  { color: gray; }</style><div id=\"4826926f-5606-4752-b54f-1f7e01aa20c2\"></div>"
      ],
      "text/plain": [
       "<IPython.core.display.HTML object>"
      ]
     },
     "metadata": {},
     "output_type": "display_data"
    },
    {
     "data": {
      "text/html": [
       "<script>var renderjson=function(){var t=function(){for(var t=[];arguments.length;)t.push(n(s(Array.prototype.shift.call(arguments)),o(Array.prototype.shift.call(arguments))));return t},n=function(){for(var t=Array.prototype.shift.call(arguments),e=0;e<arguments.length;e++)arguments[e].constructor==Array?n.apply(this,[t].concat(arguments[e])):t.appendChild(arguments[e]);return t},e=function(t,n){return t.insertBefore(n,t.firstChild),t},r=function(t,n){var e=n||Object.keys(t);for(var r in e)if(Object.hasOwnProperty.call(t,e[r]))return!1;return!0},o=function(t){return document.createTextNode(t)},s=function(t){var n=document.createElement(\"span\");return t&&(n.className=t),n},l=function(t,n,e){var r=document.createElement(\"a\");return n&&(r.className=n),r.appendChild(o(t)),r.href=\"#\",r.onclick=function(t){return e(),t&&t.stopPropagation(),!1},r};function a(i,c,u,p,y){var _=u?\"\":c,f=function(r,a,i,c,u){var f,g=s(c),h=function(){f||n(g.parentNode,f=e(u(),l(y.hide,\"disclosure\",(function(){f.style.display=\"none\",g.style.display=\"inline\"})))),f.style.display=\"inline\",g.style.display=\"none\"};n(g,l(y.show,\"disclosure\",h),t(c+\" syntax\",r),l(a,null,h),t(c+\" syntax\",i));var d=n(s(),o(_.slice(0,-1)),g);return p>0&&\"string\"!=c&&h(),d};return null===i?t(null,_,\"keyword\",\"null\"):void 0===i?t(null,_,\"keyword\",\"undefined\"):\"string\"==typeof i&&i.length>y.max_string_length?f('\"',i.substr(0,y.max_string_length)+\" ...\",'\"',\"string\",(function(){return n(s(\"string\"),t(null,_,\"string\",JSON.stringify(i)))})):\"object\"!=typeof i||[Number,String,Boolean,Date].indexOf(i.constructor)>=0?t(null,_,typeof i,JSON.stringify(i)):i.constructor==Array?0==i.length?t(null,_,\"array syntax\",\"[]\"):f(\"[\",y.collapse_msg(i.length),\"]\",\"array\",(function(){for(var e=n(s(\"array\"),t(\"array syntax\",\"[\",null,\"\\n\")),r=0;r<i.length;r++)n(e,a(y.replacer.call(i,r,i[r]),c+\"    \",!1,p-1,y),r!=i.length-1?t(\"syntax\",\",\"):[],o(\"\\n\"));return n(e,t(null,c,\"array syntax\",\"]\")),e})):r(i,y.property_list)?t(null,_,\"object syntax\",\"{}\"):f(\"{\",y.collapse_msg(Object.keys(i).length),\"}\",\"object\",(function(){var e=n(s(\"object\"),t(\"object syntax\",\"{\",null,\"\\n\"));for(var r in i)var l=r;var u=y.property_list||Object.keys(i);for(var _ in y.sort_objects&&(u=u.sort()),u){(r=u[_])in i&&n(e,t(null,c+\"    \",\"key\",'\"'+r+'\"',\"object syntax\",\": \"),a(y.replacer.call(i,r,i[r]),c+\"    \",!0,p-1,y),r!=l?t(\"syntax\",\",\"):[],o(\"\\n\"))}return n(e,t(null,c,\"object syntax\",\"}\")),e}))}var i=function t(e){var r=new Object(t.options);r.replacer=\"function\"==typeof r.replacer?r.replacer:function(t,n){return n};var o=n(document.createElement(\"pre\"),a(e,\"\",!1,r.show_to_level,r));return o.className=\"renderjson\",o};return i.set_icons=function(t,n){return i.options.show=t,i.options.hide=n,i},i.set_show_to_level=function(t){return i.options.show_to_level=\"string\"==typeof t&&\"all\"===t.toLowerCase()?Number.MAX_VALUE:t,i},i.set_max_string_length=function(t){return i.options.max_string_length=\"string\"==typeof t&&\"none\"===t.toLowerCase()?Number.MAX_VALUE:t,i},i.set_sort_objects=function(t){return i.options.sort_objects=t,i},i.set_replacer=function(t){return i.options.replacer=t,i},i.set_collapse_msg=function(t){return i.options.collapse_msg=t,i},i.set_property_list=function(t){return i.options.property_list=t,i},i.set_show_by_default=function(t){return i.options.show_to_level=t?Number.MAX_VALUE:0,i},i.options={},i.set_icons(\"⊕\",\"⊖\"),i.set_show_by_default(!1),i.set_sort_objects(!1),i.set_max_string_length(\"none\"),i.set_replacer(void 0),i.set_property_list(void 0),i.set_collapse_msg((function(t){return t+\" item\"+(1==t?\"\":\"s\")})),i}(); renderjson.set_show_to_level(1); document.getElementById(\"4826926f-5606-4752-b54f-1f7e01aa20c2\").appendChild(renderjson({\"file_name\": \"file_name\", \"id\": \"id\", \"width\": \"width\", \"height\": \"height\", \"tags\": {\"time\": \"tags.time\", \"weather\": \"tags.weather\"}}))</script>"
      ],
      "text/plain": [
       "<IPython.core.display.HTML object>"
      ]
     },
     "metadata": {},
     "output_type": "display_data"
    }
   ],
   "source": [
    "mr.JSON(get_remapping_dict_from_schema(image_schema))"
   ]
  },
  {
   "cell_type": "code",
   "execution_count": 7,
   "id": "6b115140-3b0f-42fe-86a3-9349c7a6566b",
   "metadata": {},
   "outputs": [
    {
     "data": {
      "text/html": [
       "<style>.renderjson a              { text-decoration: none; }\n",
       ".renderjson .disclosure    { color: grey; font-size: 125%; }\n",
       ".renderjson .syntax        { color: grey; }\n",
       ".renderjson .string        { color: #fe46a5; }\n",
       ".renderjson .number        { color: #0f9b8e; }\n",
       ".renderjson .boolean       { color: black; }\n",
       ".renderjson .key           { color: #2684ff; }\n",
       ".renderjson .keyword       { color: gray; }\n",
       ".renderjson .object.syntax { color: gray; }\n",
       ".renderjson .array.syntax  { color: gray; }</style><div id=\"24c28707-0afe-47cc-ad63-111048cd913c\"></div>"
      ],
      "text/plain": [
       "<IPython.core.display.HTML object>"
      ]
     },
     "metadata": {},
     "output_type": "display_data"
    },
    {
     "data": {
      "text/html": [
       "<script>var renderjson=function(){var t=function(){for(var t=[];arguments.length;)t.push(n(s(Array.prototype.shift.call(arguments)),o(Array.prototype.shift.call(arguments))));return t},n=function(){for(var t=Array.prototype.shift.call(arguments),e=0;e<arguments.length;e++)arguments[e].constructor==Array?n.apply(this,[t].concat(arguments[e])):t.appendChild(arguments[e]);return t},e=function(t,n){return t.insertBefore(n,t.firstChild),t},r=function(t,n){var e=n||Object.keys(t);for(var r in e)if(Object.hasOwnProperty.call(t,e[r]))return!1;return!0},o=function(t){return document.createTextNode(t)},s=function(t){var n=document.createElement(\"span\");return t&&(n.className=t),n},l=function(t,n,e){var r=document.createElement(\"a\");return n&&(r.className=n),r.appendChild(o(t)),r.href=\"#\",r.onclick=function(t){return e(),t&&t.stopPropagation(),!1},r};function a(i,c,u,p,y){var _=u?\"\":c,f=function(r,a,i,c,u){var f,g=s(c),h=function(){f||n(g.parentNode,f=e(u(),l(y.hide,\"disclosure\",(function(){f.style.display=\"none\",g.style.display=\"inline\"})))),f.style.display=\"inline\",g.style.display=\"none\"};n(g,l(y.show,\"disclosure\",h),t(c+\" syntax\",r),l(a,null,h),t(c+\" syntax\",i));var d=n(s(),o(_.slice(0,-1)),g);return p>0&&\"string\"!=c&&h(),d};return null===i?t(null,_,\"keyword\",\"null\"):void 0===i?t(null,_,\"keyword\",\"undefined\"):\"string\"==typeof i&&i.length>y.max_string_length?f('\"',i.substr(0,y.max_string_length)+\" ...\",'\"',\"string\",(function(){return n(s(\"string\"),t(null,_,\"string\",JSON.stringify(i)))})):\"object\"!=typeof i||[Number,String,Boolean,Date].indexOf(i.constructor)>=0?t(null,_,typeof i,JSON.stringify(i)):i.constructor==Array?0==i.length?t(null,_,\"array syntax\",\"[]\"):f(\"[\",y.collapse_msg(i.length),\"]\",\"array\",(function(){for(var e=n(s(\"array\"),t(\"array syntax\",\"[\",null,\"\\n\")),r=0;r<i.length;r++)n(e,a(y.replacer.call(i,r,i[r]),c+\"    \",!1,p-1,y),r!=i.length-1?t(\"syntax\",\",\"):[],o(\"\\n\"));return n(e,t(null,c,\"array syntax\",\"]\")),e})):r(i,y.property_list)?t(null,_,\"object syntax\",\"{}\"):f(\"{\",y.collapse_msg(Object.keys(i).length),\"}\",\"object\",(function(){var e=n(s(\"object\"),t(\"object syntax\",\"{\",null,\"\\n\"));for(var r in i)var l=r;var u=y.property_list||Object.keys(i);for(var _ in y.sort_objects&&(u=u.sort()),u){(r=u[_])in i&&n(e,t(null,c+\"    \",\"key\",'\"'+r+'\"',\"object syntax\",\": \"),a(y.replacer.call(i,r,i[r]),c+\"    \",!0,p-1,y),r!=l?t(\"syntax\",\",\"):[],o(\"\\n\"))}return n(e,t(null,c,\"object syntax\",\"}\")),e}))}var i=function t(e){var r=new Object(t.options);r.replacer=\"function\"==typeof r.replacer?r.replacer:function(t,n){return n};var o=n(document.createElement(\"pre\"),a(e,\"\",!1,r.show_to_level,r));return o.className=\"renderjson\",o};return i.set_icons=function(t,n){return i.options.show=t,i.options.hide=n,i},i.set_show_to_level=function(t){return i.options.show_to_level=\"string\"==typeof t&&\"all\"===t.toLowerCase()?Number.MAX_VALUE:t,i},i.set_max_string_length=function(t){return i.options.max_string_length=\"string\"==typeof t&&\"none\"===t.toLowerCase()?Number.MAX_VALUE:t,i},i.set_sort_objects=function(t){return i.options.sort_objects=t,i},i.set_replacer=function(t){return i.options.replacer=t,i},i.set_collapse_msg=function(t){return i.options.collapse_msg=t,i},i.set_property_list=function(t){return i.options.property_list=t,i},i.set_show_by_default=function(t){return i.options.show_to_level=t?Number.MAX_VALUE:0,i},i.options={},i.set_icons(\"⊕\",\"⊖\"),i.set_show_by_default(!1),i.set_sort_objects(!1),i.set_max_string_length(\"none\"),i.set_replacer(void 0),i.set_property_list(void 0),i.set_collapse_msg((function(t){return t+\" item\"+(1==t?\"\":\"s\")})),i}(); renderjson.set_show_to_level(1); document.getElementById(\"24c28707-0afe-47cc-ad63-111048cd913c\").appendChild(renderjson({\"attributes.colors\": [\"beige\", \"orange\", \"yellow\", \"white\", \"purple\", \"grey\", \"brown\", \"blue\", \"pink\", \"black\", \"cyan\", \"red\", \"green\"], \"attributes.position\": [\"side\", \"back\", \"top\", \"unknown\", \"front\"]}))</script>"
      ],
      "text/plain": [
       "<IPython.core.display.HTML object>"
      ]
     },
     "metadata": {},
     "output_type": "display_data"
    }
   ],
   "source": [
    "enums = get_enums(annotations_schema)\n",
    "# convert sets to list for json serialization\n",
    "mr.JSON({k: list(v) for k, v in enums.items()})"
   ]
  },
  {
   "cell_type": "markdown",
   "id": "03106ccb-0e67-42c6-9b45-766e11a7f4ee",
   "metadata": {},
   "source": [
    "In the following cells, we use the caipy loader with and without the default schema. Notice how in the the annotations data of image1, there is no \"position\" in the dictionary.\n",
    "\n",
    "If we load the caipy without schema, we can flatten the json data, thanks to [pandas.json_normalize](https://pandas.pydata.org/pandas-docs/stable/reference/api/pandas.json_normalize.html), but the missing data will be set to `None`, while it should be an empty list.\n",
    "\n",
    "Using the schema can help setting the right default value"
   ]
  },
  {
   "cell_type": "code",
   "execution_count": 8,
   "id": "ceab5df0-764a-4d36-8f31-31ba94492866",
   "metadata": {},
   "outputs": [
    {
     "data": {
      "text/html": [
       "<style>.renderjson a              { text-decoration: none; }\n",
       ".renderjson .disclosure    { color: grey; font-size: 125%; }\n",
       ".renderjson .syntax        { color: grey; }\n",
       ".renderjson .string        { color: #fe46a5; }\n",
       ".renderjson .number        { color: #0f9b8e; }\n",
       ".renderjson .boolean       { color: black; }\n",
       ".renderjson .key           { color: #2684ff; }\n",
       ".renderjson .keyword       { color: gray; }\n",
       ".renderjson .object.syntax { color: gray; }\n",
       ".renderjson .array.syntax  { color: gray; }</style><div id=\"f9ea7be5-bd27-412a-89ab-3be6a61a7dfc\"></div>"
      ],
      "text/plain": [
       "<IPython.core.display.HTML object>"
      ]
     },
     "metadata": {},
     "output_type": "display_data"
    },
    {
     "data": {
      "text/html": [
       "<script>var renderjson=function(){var t=function(){for(var t=[];arguments.length;)t.push(n(s(Array.prototype.shift.call(arguments)),o(Array.prototype.shift.call(arguments))));return t},n=function(){for(var t=Array.prototype.shift.call(arguments),e=0;e<arguments.length;e++)arguments[e].constructor==Array?n.apply(this,[t].concat(arguments[e])):t.appendChild(arguments[e]);return t},e=function(t,n){return t.insertBefore(n,t.firstChild),t},r=function(t,n){var e=n||Object.keys(t);for(var r in e)if(Object.hasOwnProperty.call(t,e[r]))return!1;return!0},o=function(t){return document.createTextNode(t)},s=function(t){var n=document.createElement(\"span\");return t&&(n.className=t),n},l=function(t,n,e){var r=document.createElement(\"a\");return n&&(r.className=n),r.appendChild(o(t)),r.href=\"#\",r.onclick=function(t){return e(),t&&t.stopPropagation(),!1},r};function a(i,c,u,p,y){var _=u?\"\":c,f=function(r,a,i,c,u){var f,g=s(c),h=function(){f||n(g.parentNode,f=e(u(),l(y.hide,\"disclosure\",(function(){f.style.display=\"none\",g.style.display=\"inline\"})))),f.style.display=\"inline\",g.style.display=\"none\"};n(g,l(y.show,\"disclosure\",h),t(c+\" syntax\",r),l(a,null,h),t(c+\" syntax\",i));var d=n(s(),o(_.slice(0,-1)),g);return p>0&&\"string\"!=c&&h(),d};return null===i?t(null,_,\"keyword\",\"null\"):void 0===i?t(null,_,\"keyword\",\"undefined\"):\"string\"==typeof i&&i.length>y.max_string_length?f('\"',i.substr(0,y.max_string_length)+\" ...\",'\"',\"string\",(function(){return n(s(\"string\"),t(null,_,\"string\",JSON.stringify(i)))})):\"object\"!=typeof i||[Number,String,Boolean,Date].indexOf(i.constructor)>=0?t(null,_,typeof i,JSON.stringify(i)):i.constructor==Array?0==i.length?t(null,_,\"array syntax\",\"[]\"):f(\"[\",y.collapse_msg(i.length),\"]\",\"array\",(function(){for(var e=n(s(\"array\"),t(\"array syntax\",\"[\",null,\"\\n\")),r=0;r<i.length;r++)n(e,a(y.replacer.call(i,r,i[r]),c+\"    \",!1,p-1,y),r!=i.length-1?t(\"syntax\",\",\"):[],o(\"\\n\"));return n(e,t(null,c,\"array syntax\",\"]\")),e})):r(i,y.property_list)?t(null,_,\"object syntax\",\"{}\"):f(\"{\",y.collapse_msg(Object.keys(i).length),\"}\",\"object\",(function(){var e=n(s(\"object\"),t(\"object syntax\",\"{\",null,\"\\n\"));for(var r in i)var l=r;var u=y.property_list||Object.keys(i);for(var _ in y.sort_objects&&(u=u.sort()),u){(r=u[_])in i&&n(e,t(null,c+\"    \",\"key\",'\"'+r+'\"',\"object syntax\",\": \"),a(y.replacer.call(i,r,i[r]),c+\"    \",!0,p-1,y),r!=l?t(\"syntax\",\",\"):[],o(\"\\n\"))}return n(e,t(null,c,\"object syntax\",\"}\")),e}))}var i=function t(e){var r=new Object(t.options);r.replacer=\"function\"==typeof r.replacer?r.replacer:function(t,n){return n};var o=n(document.createElement(\"pre\"),a(e,\"\",!1,r.show_to_level,r));return o.className=\"renderjson\",o};return i.set_icons=function(t,n){return i.options.show=t,i.options.hide=n,i},i.set_show_to_level=function(t){return i.options.show_to_level=\"string\"==typeof t&&\"all\"===t.toLowerCase()?Number.MAX_VALUE:t,i},i.set_max_string_length=function(t){return i.options.max_string_length=\"string\"==typeof t&&\"none\"===t.toLowerCase()?Number.MAX_VALUE:t,i},i.set_sort_objects=function(t){return i.options.sort_objects=t,i},i.set_replacer=function(t){return i.options.replacer=t,i},i.set_collapse_msg=function(t){return i.options.collapse_msg=t,i},i.set_property_list=function(t){return i.options.property_list=t,i},i.set_show_by_default=function(t){return i.options.show_to_level=t?Number.MAX_VALUE:0,i},i.options={},i.set_icons(\"⊕\",\"⊖\"),i.set_show_by_default(!1),i.set_sort_objects(!1),i.set_max_string_length(\"none\"),i.set_replacer(void 0),i.set_property_list(void 0),i.set_collapse_msg((function(t){return t+\" item\"+(1==t?\"\":\"s\")})),i}(); renderjson.set_show_to_level(1); document.getElementById(\"f9ea7be5-bd27-412a-89ab-3be6a61a7dfc\").appendChild(renderjson({\"area\": 46726.43029999999, \"category_str\": \"stop sign\", \"image_id\": 6091, \"bbox\": [100.22, 117.54, 253.43, 274.9], \"category_id\": 13, \"id\": 269791, \"attributes\": {\"colors\": [\"red\", \"white\"], \"occluded\": true}}))</script>"
      ],
      "text/plain": [
       "<IPython.core.display.HTML object>"
      ]
     },
     "metadata": {},
     "output_type": "display_data"
    },
    {
     "data": {
      "text/html": [
       "<style>.renderjson a              { text-decoration: none; }\n",
       ".renderjson .disclosure    { color: grey; font-size: 125%; }\n",
       ".renderjson .syntax        { color: grey; }\n",
       ".renderjson .string        { color: #fe46a5; }\n",
       ".renderjson .number        { color: #0f9b8e; }\n",
       ".renderjson .boolean       { color: black; }\n",
       ".renderjson .key           { color: #2684ff; }\n",
       ".renderjson .keyword       { color: gray; }\n",
       ".renderjson .object.syntax { color: gray; }\n",
       ".renderjson .array.syntax  { color: gray; }</style><div id=\"e70d9828-90fd-40a7-a3d5-fab482d3e6e5\"></div>"
      ],
      "text/plain": [
       "<IPython.core.display.HTML object>"
      ]
     },
     "metadata": {},
     "output_type": "display_data"
    },
    {
     "data": {
      "text/html": [
       "<script>var renderjson=function(){var t=function(){for(var t=[];arguments.length;)t.push(n(s(Array.prototype.shift.call(arguments)),o(Array.prototype.shift.call(arguments))));return t},n=function(){for(var t=Array.prototype.shift.call(arguments),e=0;e<arguments.length;e++)arguments[e].constructor==Array?n.apply(this,[t].concat(arguments[e])):t.appendChild(arguments[e]);return t},e=function(t,n){return t.insertBefore(n,t.firstChild),t},r=function(t,n){var e=n||Object.keys(t);for(var r in e)if(Object.hasOwnProperty.call(t,e[r]))return!1;return!0},o=function(t){return document.createTextNode(t)},s=function(t){var n=document.createElement(\"span\");return t&&(n.className=t),n},l=function(t,n,e){var r=document.createElement(\"a\");return n&&(r.className=n),r.appendChild(o(t)),r.href=\"#\",r.onclick=function(t){return e(),t&&t.stopPropagation(),!1},r};function a(i,c,u,p,y){var _=u?\"\":c,f=function(r,a,i,c,u){var f,g=s(c),h=function(){f||n(g.parentNode,f=e(u(),l(y.hide,\"disclosure\",(function(){f.style.display=\"none\",g.style.display=\"inline\"})))),f.style.display=\"inline\",g.style.display=\"none\"};n(g,l(y.show,\"disclosure\",h),t(c+\" syntax\",r),l(a,null,h),t(c+\" syntax\",i));var d=n(s(),o(_.slice(0,-1)),g);return p>0&&\"string\"!=c&&h(),d};return null===i?t(null,_,\"keyword\",\"null\"):void 0===i?t(null,_,\"keyword\",\"undefined\"):\"string\"==typeof i&&i.length>y.max_string_length?f('\"',i.substr(0,y.max_string_length)+\" ...\",'\"',\"string\",(function(){return n(s(\"string\"),t(null,_,\"string\",JSON.stringify(i)))})):\"object\"!=typeof i||[Number,String,Boolean,Date].indexOf(i.constructor)>=0?t(null,_,typeof i,JSON.stringify(i)):i.constructor==Array?0==i.length?t(null,_,\"array syntax\",\"[]\"):f(\"[\",y.collapse_msg(i.length),\"]\",\"array\",(function(){for(var e=n(s(\"array\"),t(\"array syntax\",\"[\",null,\"\\n\")),r=0;r<i.length;r++)n(e,a(y.replacer.call(i,r,i[r]),c+\"    \",!1,p-1,y),r!=i.length-1?t(\"syntax\",\",\"):[],o(\"\\n\"));return n(e,t(null,c,\"array syntax\",\"]\")),e})):r(i,y.property_list)?t(null,_,\"object syntax\",\"{}\"):f(\"{\",y.collapse_msg(Object.keys(i).length),\"}\",\"object\",(function(){var e=n(s(\"object\"),t(\"object syntax\",\"{\",null,\"\\n\"));for(var r in i)var l=r;var u=y.property_list||Object.keys(i);for(var _ in y.sort_objects&&(u=u.sort()),u){(r=u[_])in i&&n(e,t(null,c+\"    \",\"key\",'\"'+r+'\"',\"object syntax\",\": \"),a(y.replacer.call(i,r,i[r]),c+\"    \",!0,p-1,y),r!=l?t(\"syntax\",\",\"):[],o(\"\\n\"))}return n(e,t(null,c,\"object syntax\",\"}\")),e}))}var i=function t(e){var r=new Object(t.options);r.replacer=\"function\"==typeof r.replacer?r.replacer:function(t,n){return n};var o=n(document.createElement(\"pre\"),a(e,\"\",!1,r.show_to_level,r));return o.className=\"renderjson\",o};return i.set_icons=function(t,n){return i.options.show=t,i.options.hide=n,i},i.set_show_to_level=function(t){return i.options.show_to_level=\"string\"==typeof t&&\"all\"===t.toLowerCase()?Number.MAX_VALUE:t,i},i.set_max_string_length=function(t){return i.options.max_string_length=\"string\"==typeof t&&\"none\"===t.toLowerCase()?Number.MAX_VALUE:t,i},i.set_sort_objects=function(t){return i.options.sort_objects=t,i},i.set_replacer=function(t){return i.options.replacer=t,i},i.set_collapse_msg=function(t){return i.options.collapse_msg=t,i},i.set_property_list=function(t){return i.options.property_list=t,i},i.set_show_by_default=function(t){return i.options.show_to_level=t?Number.MAX_VALUE:0,i},i.options={},i.set_icons(\"⊕\",\"⊖\"),i.set_show_by_default(!1),i.set_sort_objects(!1),i.set_max_string_length(\"none\"),i.set_replacer(void 0),i.set_property_list(void 0),i.set_collapse_msg((function(t){return t+\" item\"+(1==t?\"\":\"s\")})),i}(); renderjson.set_show_to_level(1); document.getElementById(\"e70d9828-90fd-40a7-a3d5-fab482d3e6e5\").appendChild(renderjson({\"area\": 84587.43910000003, \"category_str\": \"teddy bear\", \"image_id\": 10395, \"bbox\": [49.19, 66.2, 378.97, 379.68], \"category_id\": 88, \"id\": 1161234, \"attributes\": {\"colors\": [\"grey\"], \"position\": [\"front\"]}}))</script>"
      ],
      "text/plain": [
       "<IPython.core.display.HTML object>"
      ]
     },
     "metadata": {},
     "output_type": "display_data"
    }
   ],
   "source": [
    "from lours.dataset import from_caipy\n",
    "\n",
    "with open(\n",
    "    \"../../test_lours/test_data/caipy_dataset/tags/small_tagged_dataset/Annotations/image1.json\"\n",
    ") as f:\n",
    "    caipy_json = json.load(f)\n",
    "mr.JSON(caipy_json[\"annotations\"][0])\n",
    "with open(\n",
    "    \"../../test_lours/test_data/caipy_dataset/tags/small_tagged_dataset/Annotations/image2.json\"\n",
    ") as f:\n",
    "    caipy_json = json.load(f)\n",
    "mr.JSON(caipy_json[\"annotations\"][0])"
   ]
  },
  {
   "cell_type": "code",
   "execution_count": 9,
   "id": "6327eb19-c223-4751-9c6b-97359bbffad2",
   "metadata": {},
   "outputs": [
    {
     "data": {
      "application/vnd.jupyter.widget-view+json": {
       "model_id": "83fa3e7b01c3437fa9ada7adbb43a4ab",
       "version_major": 2,
       "version_minor": 0
      },
      "text/plain": [
       "  0%|          | 0/2 [00:00<?, ?it/s]"
      ]
     },
     "metadata": {},
     "output_type": "display_data"
    },
    {
     "data": {
      "application/vnd.jupyter.widget-view+json": {
       "model_id": "1edff217974249e28897179dbf04b14a",
       "version_major": 2,
       "version_minor": 0
      },
      "text/plain": [
       "  0%|          | 0/2 [00:00<?, ?it/s]"
      ]
     },
     "metadata": {},
     "output_type": "display_data"
    }
   ],
   "source": [
    "no_schema_dataset = from_caipy(\n",
    "    \"../../test_lours/test_data/caipy_dataset/tags/small_tagged_dataset/\",\n",
    "    use_schema=False,\n",
    ")\n",
    "\n",
    "schema_dataset = from_caipy(\n",
    "    \"../../test_lours/test_data/caipy_dataset/tags/small_tagged_dataset/\",\n",
    "    use_schema=True,\n",
    "    booleanize=False,\n",
    ")"
   ]
  },
  {
   "cell_type": "code",
   "execution_count": 10,
   "id": "a66b5960-d5fd-40ba-887d-b515df437ae8",
   "metadata": {},
   "outputs": [
    {
     "data": {
      "text/html": [
       "<div>\n",
       "<style scoped>\n",
       "    .dataframe tbody tr th:only-of-type {\n",
       "        vertical-align: middle;\n",
       "    }\n",
       "\n",
       "    .dataframe tbody tr th {\n",
       "        vertical-align: top;\n",
       "    }\n",
       "\n",
       "    .dataframe thead th {\n",
       "        text-align: right;\n",
       "    }\n",
       "</style>\n",
       "<table border=\"1\" class=\"dataframe\">\n",
       "  <thead>\n",
       "    <tr style=\"text-align: right;\">\n",
       "      <th></th>\n",
       "      <th>image_id</th>\n",
       "      <th>category_str</th>\n",
       "      <th>category_id</th>\n",
       "      <th>box_x_min</th>\n",
       "      <th>box_y_min</th>\n",
       "      <th>box_width</th>\n",
       "      <th>box_height</th>\n",
       "      <th>area</th>\n",
       "      <th>attributes.colors</th>\n",
       "      <th>attributes.occluded</th>\n",
       "      <th>attributes.position</th>\n",
       "    </tr>\n",
       "    <tr>\n",
       "      <th>id</th>\n",
       "      <th></th>\n",
       "      <th></th>\n",
       "      <th></th>\n",
       "      <th></th>\n",
       "      <th></th>\n",
       "      <th></th>\n",
       "      <th></th>\n",
       "      <th></th>\n",
       "      <th></th>\n",
       "      <th></th>\n",
       "      <th></th>\n",
       "    </tr>\n",
       "  </thead>\n",
       "  <tbody>\n",
       "    <tr>\n",
       "      <th>269791</th>\n",
       "      <td>6091</td>\n",
       "      <td>stop sign</td>\n",
       "      <td>13</td>\n",
       "      <td>100.22</td>\n",
       "      <td>117.54</td>\n",
       "      <td>253.43</td>\n",
       "      <td>274.90</td>\n",
       "      <td>46726.4303</td>\n",
       "      <td>[red, white]</td>\n",
       "      <td>True</td>\n",
       "      <td>None</td>\n",
       "    </tr>\n",
       "    <tr>\n",
       "      <th>1161234</th>\n",
       "      <td>10395</td>\n",
       "      <td>teddy bear</td>\n",
       "      <td>88</td>\n",
       "      <td>49.19</td>\n",
       "      <td>66.20</td>\n",
       "      <td>378.97</td>\n",
       "      <td>379.68</td>\n",
       "      <td>84587.4391</td>\n",
       "      <td>[grey]</td>\n",
       "      <td>None</td>\n",
       "      <td>[front]</td>\n",
       "    </tr>\n",
       "  </tbody>\n",
       "</table>\n",
       "</div>"
      ],
      "text/plain": [
       "         image_id category_str  category_id  box_x_min  box_y_min  box_width  \\\n",
       "id                                                                             \n",
       "269791       6091    stop sign           13     100.22     117.54     253.43   \n",
       "1161234     10395   teddy bear           88      49.19      66.20     378.97   \n",
       "\n",
       "         box_height        area attributes.colors attributes.occluded  \\\n",
       "id                                                                      \n",
       "269791       274.90  46726.4303      [red, white]                True   \n",
       "1161234      379.68  84587.4391            [grey]                None   \n",
       "\n",
       "        attributes.position  \n",
       "id                           \n",
       "269791                 None  \n",
       "1161234             [front]  "
      ]
     },
     "execution_count": 10,
     "metadata": {},
     "output_type": "execute_result"
    }
   ],
   "source": [
    "no_schema_dataset.annotations"
   ]
  },
  {
   "cell_type": "code",
   "execution_count": 11,
   "id": "52706cbc-3a74-476e-a1a7-fd4ddbee938e",
   "metadata": {},
   "outputs": [
    {
     "data": {
      "text/html": [
       "<div>\n",
       "<style scoped>\n",
       "    .dataframe tbody tr th:only-of-type {\n",
       "        vertical-align: middle;\n",
       "    }\n",
       "\n",
       "    .dataframe tbody tr th {\n",
       "        vertical-align: top;\n",
       "    }\n",
       "\n",
       "    .dataframe thead th {\n",
       "        text-align: right;\n",
       "    }\n",
       "</style>\n",
       "<table border=\"1\" class=\"dataframe\">\n",
       "  <thead>\n",
       "    <tr style=\"text-align: right;\">\n",
       "      <th></th>\n",
       "      <th>image_id</th>\n",
       "      <th>category_str</th>\n",
       "      <th>category_id</th>\n",
       "      <th>box_x_min</th>\n",
       "      <th>box_y_min</th>\n",
       "      <th>box_width</th>\n",
       "      <th>box_height</th>\n",
       "      <th>area</th>\n",
       "      <th>attributes.colors</th>\n",
       "      <th>attributes.occluded</th>\n",
       "      <th>attributes.position</th>\n",
       "    </tr>\n",
       "    <tr>\n",
       "      <th>id</th>\n",
       "      <th></th>\n",
       "      <th></th>\n",
       "      <th></th>\n",
       "      <th></th>\n",
       "      <th></th>\n",
       "      <th></th>\n",
       "      <th></th>\n",
       "      <th></th>\n",
       "      <th></th>\n",
       "      <th></th>\n",
       "      <th></th>\n",
       "    </tr>\n",
       "  </thead>\n",
       "  <tbody>\n",
       "    <tr>\n",
       "      <th>269791</th>\n",
       "      <td>6091</td>\n",
       "      <td>stop sign</td>\n",
       "      <td>13</td>\n",
       "      <td>100.22</td>\n",
       "      <td>117.54</td>\n",
       "      <td>253.43</td>\n",
       "      <td>274.90</td>\n",
       "      <td>46726.4303</td>\n",
       "      <td>[red, white]</td>\n",
       "      <td>True</td>\n",
       "      <td>[]</td>\n",
       "    </tr>\n",
       "    <tr>\n",
       "      <th>1161234</th>\n",
       "      <td>10395</td>\n",
       "      <td>teddy bear</td>\n",
       "      <td>88</td>\n",
       "      <td>49.19</td>\n",
       "      <td>66.20</td>\n",
       "      <td>378.97</td>\n",
       "      <td>379.68</td>\n",
       "      <td>84587.4391</td>\n",
       "      <td>[grey]</td>\n",
       "      <td>None</td>\n",
       "      <td>[front]</td>\n",
       "    </tr>\n",
       "  </tbody>\n",
       "</table>\n",
       "</div>"
      ],
      "text/plain": [
       "         image_id category_str  category_id  box_x_min  box_y_min  box_width  \\\n",
       "id                                                                             \n",
       "269791       6091    stop sign           13     100.22     117.54     253.43   \n",
       "1161234     10395   teddy bear           88      49.19      66.20     378.97   \n",
       "\n",
       "         box_height        area attributes.colors attributes.occluded  \\\n",
       "id                                                                      \n",
       "269791       274.90  46726.4303      [red, white]                True   \n",
       "1161234      379.68  84587.4391            [grey]                None   \n",
       "\n",
       "        attributes.position  \n",
       "id                           \n",
       "269791                   []  \n",
       "1161234             [front]  "
      ]
     },
     "execution_count": 11,
     "metadata": {},
     "output_type": "execute_result"
    }
   ],
   "source": [
    "schema_dataset.annotations"
   ]
  },
  {
   "cell_type": "markdown",
   "id": "c2acc4bb-0177-4a17-b858-f1259e7a5bb1",
   "metadata": {},
   "source": [
    "Note that thanks to schema tool `fill_with_default_value` we can put default values afterward."
   ]
  },
  {
   "cell_type": "code",
   "execution_count": 12,
   "id": "f75c7186-517b-4ac6-a862-82eca358c611",
   "metadata": {},
   "outputs": [
    {
     "data": {
      "text/html": [
       "<div>\n",
       "<style scoped>\n",
       "    .dataframe tbody tr th:only-of-type {\n",
       "        vertical-align: middle;\n",
       "    }\n",
       "\n",
       "    .dataframe tbody tr th {\n",
       "        vertical-align: top;\n",
       "    }\n",
       "\n",
       "    .dataframe thead th {\n",
       "        text-align: right;\n",
       "    }\n",
       "</style>\n",
       "<table border=\"1\" class=\"dataframe\">\n",
       "  <thead>\n",
       "    <tr style=\"text-align: right;\">\n",
       "      <th></th>\n",
       "      <th>image_id</th>\n",
       "      <th>category_str</th>\n",
       "      <th>category_id</th>\n",
       "      <th>box_x_min</th>\n",
       "      <th>box_y_min</th>\n",
       "      <th>box_width</th>\n",
       "      <th>box_height</th>\n",
       "      <th>area</th>\n",
       "      <th>attributes.colors</th>\n",
       "      <th>attributes.occluded</th>\n",
       "      <th>attributes.position</th>\n",
       "    </tr>\n",
       "    <tr>\n",
       "      <th>id</th>\n",
       "      <th></th>\n",
       "      <th></th>\n",
       "      <th></th>\n",
       "      <th></th>\n",
       "      <th></th>\n",
       "      <th></th>\n",
       "      <th></th>\n",
       "      <th></th>\n",
       "      <th></th>\n",
       "      <th></th>\n",
       "      <th></th>\n",
       "    </tr>\n",
       "  </thead>\n",
       "  <tbody>\n",
       "    <tr>\n",
       "      <th>269791</th>\n",
       "      <td>6091</td>\n",
       "      <td>stop sign</td>\n",
       "      <td>13</td>\n",
       "      <td>100.22</td>\n",
       "      <td>117.54</td>\n",
       "      <td>253.43</td>\n",
       "      <td>274.90</td>\n",
       "      <td>46726.4303</td>\n",
       "      <td>[red, white]</td>\n",
       "      <td>True</td>\n",
       "      <td>[]</td>\n",
       "    </tr>\n",
       "    <tr>\n",
       "      <th>1161234</th>\n",
       "      <td>10395</td>\n",
       "      <td>teddy bear</td>\n",
       "      <td>88</td>\n",
       "      <td>49.19</td>\n",
       "      <td>66.20</td>\n",
       "      <td>378.97</td>\n",
       "      <td>379.68</td>\n",
       "      <td>84587.4391</td>\n",
       "      <td>[grey]</td>\n",
       "      <td>None</td>\n",
       "      <td>[front]</td>\n",
       "    </tr>\n",
       "  </tbody>\n",
       "</table>\n",
       "</div>"
      ],
      "text/plain": [
       "         image_id category_str  category_id  box_x_min  box_y_min  box_width  \\\n",
       "id                                                                             \n",
       "269791       6091    stop sign           13     100.22     117.54     253.43   \n",
       "1161234     10395   teddy bear           88      49.19      66.20     378.97   \n",
       "\n",
       "         box_height        area attributes.colors attributes.occluded  \\\n",
       "id                                                                      \n",
       "269791       274.90  46726.4303      [red, white]                True   \n",
       "1161234      379.68  84587.4391            [grey]                None   \n",
       "\n",
       "        attributes.position  \n",
       "id                           \n",
       "269791                   []  \n",
       "1161234             [front]  "
      ]
     },
     "execution_count": 12,
     "metadata": {},
     "output_type": "execute_result"
    }
   ],
   "source": [
    "fill_with_dtypes_and_default_value(annotations_schema, schema_dataset.annotations)"
   ]
  },
  {
   "cell_type": "markdown",
   "id": "aaaca254-e00a-4d32-b394-0a679bf9602d",
   "metadata": {},
   "source": [
    "### From dataframe to nested json\n",
    "\n",
    "Once you have manipulated your dataset you can then re-save it according to the schema."
   ]
  },
  {
   "cell_type": "code",
   "execution_count": 13,
   "id": "7a889e81-3fd6-4fb5-885c-356be2a82803",
   "metadata": {},
   "outputs": [
    {
     "data": {
      "text/html": [
       "<style>.renderjson a              { text-decoration: none; }\n",
       ".renderjson .disclosure    { color: grey; font-size: 125%; }\n",
       ".renderjson .syntax        { color: grey; }\n",
       ".renderjson .string        { color: #fe46a5; }\n",
       ".renderjson .number        { color: #0f9b8e; }\n",
       ".renderjson .boolean       { color: black; }\n",
       ".renderjson .key           { color: #2684ff; }\n",
       ".renderjson .keyword       { color: gray; }\n",
       ".renderjson .object.syntax { color: gray; }\n",
       ".renderjson .array.syntax  { color: gray; }</style><div id=\"1cb40dfc-d531-4348-aca3-b8eacfb64c4f\"></div>"
      ],
      "text/plain": [
       "<IPython.core.display.HTML object>"
      ]
     },
     "metadata": {},
     "output_type": "display_data"
    },
    {
     "data": {
      "text/html": [
       "<script>var renderjson=function(){var t=function(){for(var t=[];arguments.length;)t.push(n(s(Array.prototype.shift.call(arguments)),o(Array.prototype.shift.call(arguments))));return t},n=function(){for(var t=Array.prototype.shift.call(arguments),e=0;e<arguments.length;e++)arguments[e].constructor==Array?n.apply(this,[t].concat(arguments[e])):t.appendChild(arguments[e]);return t},e=function(t,n){return t.insertBefore(n,t.firstChild),t},r=function(t,n){var e=n||Object.keys(t);for(var r in e)if(Object.hasOwnProperty.call(t,e[r]))return!1;return!0},o=function(t){return document.createTextNode(t)},s=function(t){var n=document.createElement(\"span\");return t&&(n.className=t),n},l=function(t,n,e){var r=document.createElement(\"a\");return n&&(r.className=n),r.appendChild(o(t)),r.href=\"#\",r.onclick=function(t){return e(),t&&t.stopPropagation(),!1},r};function a(i,c,u,p,y){var _=u?\"\":c,f=function(r,a,i,c,u){var f,g=s(c),h=function(){f||n(g.parentNode,f=e(u(),l(y.hide,\"disclosure\",(function(){f.style.display=\"none\",g.style.display=\"inline\"})))),f.style.display=\"inline\",g.style.display=\"none\"};n(g,l(y.show,\"disclosure\",h),t(c+\" syntax\",r),l(a,null,h),t(c+\" syntax\",i));var d=n(s(),o(_.slice(0,-1)),g);return p>0&&\"string\"!=c&&h(),d};return null===i?t(null,_,\"keyword\",\"null\"):void 0===i?t(null,_,\"keyword\",\"undefined\"):\"string\"==typeof i&&i.length>y.max_string_length?f('\"',i.substr(0,y.max_string_length)+\" ...\",'\"',\"string\",(function(){return n(s(\"string\"),t(null,_,\"string\",JSON.stringify(i)))})):\"object\"!=typeof i||[Number,String,Boolean,Date].indexOf(i.constructor)>=0?t(null,_,typeof i,JSON.stringify(i)):i.constructor==Array?0==i.length?t(null,_,\"array syntax\",\"[]\"):f(\"[\",y.collapse_msg(i.length),\"]\",\"array\",(function(){for(var e=n(s(\"array\"),t(\"array syntax\",\"[\",null,\"\\n\")),r=0;r<i.length;r++)n(e,a(y.replacer.call(i,r,i[r]),c+\"    \",!1,p-1,y),r!=i.length-1?t(\"syntax\",\",\"):[],o(\"\\n\"));return n(e,t(null,c,\"array syntax\",\"]\")),e})):r(i,y.property_list)?t(null,_,\"object syntax\",\"{}\"):f(\"{\",y.collapse_msg(Object.keys(i).length),\"}\",\"object\",(function(){var e=n(s(\"object\"),t(\"object syntax\",\"{\",null,\"\\n\"));for(var r in i)var l=r;var u=y.property_list||Object.keys(i);for(var _ in y.sort_objects&&(u=u.sort()),u){(r=u[_])in i&&n(e,t(null,c+\"    \",\"key\",'\"'+r+'\"',\"object syntax\",\": \"),a(y.replacer.call(i,r,i[r]),c+\"    \",!0,p-1,y),r!=l?t(\"syntax\",\",\"):[],o(\"\\n\"))}return n(e,t(null,c,\"object syntax\",\"}\")),e}))}var i=function t(e){var r=new Object(t.options);r.replacer=\"function\"==typeof r.replacer?r.replacer:function(t,n){return n};var o=n(document.createElement(\"pre\"),a(e,\"\",!1,r.show_to_level,r));return o.className=\"renderjson\",o};return i.set_icons=function(t,n){return i.options.show=t,i.options.hide=n,i},i.set_show_to_level=function(t){return i.options.show_to_level=\"string\"==typeof t&&\"all\"===t.toLowerCase()?Number.MAX_VALUE:t,i},i.set_max_string_length=function(t){return i.options.max_string_length=\"string\"==typeof t&&\"none\"===t.toLowerCase()?Number.MAX_VALUE:t,i},i.set_sort_objects=function(t){return i.options.sort_objects=t,i},i.set_replacer=function(t){return i.options.replacer=t,i},i.set_collapse_msg=function(t){return i.options.collapse_msg=t,i},i.set_property_list=function(t){return i.options.property_list=t,i},i.set_show_by_default=function(t){return i.options.show_to_level=t?Number.MAX_VALUE:0,i},i.options={},i.set_icons(\"⊕\",\"⊖\"),i.set_show_by_default(!1),i.set_sort_objects(!1),i.set_max_string_length(\"none\"),i.set_replacer(void 0),i.set_property_list(void 0),i.set_collapse_msg((function(t){return t+\" item\"+(1==t?\"\":\"s\")})),i}(); renderjson.set_show_to_level(1); document.getElementById(\"1cb40dfc-d531-4348-aca3-b8eacfb64c4f\").appendChild(renderjson({\"image_id\": 6091, \"category_str\": \"stop sign\", \"category_id\": 13, \"box_x_min\": 100.22, \"box_y_min\": 117.54, \"box_width\": 253.43, \"box_height\": 274.9, \"area\": 46726.43029999999, \"attributes.colors\": [\"red\", \"white\"], \"attributes.occluded\": true, \"attributes.position\": []}))</script>"
      ],
      "text/plain": [
       "<IPython.core.display.HTML object>"
      ]
     },
     "metadata": {},
     "output_type": "display_data"
    },
    {
     "data": {
      "text/html": [
       "<style>.renderjson a              { text-decoration: none; }\n",
       ".renderjson .disclosure    { color: grey; font-size: 125%; }\n",
       ".renderjson .syntax        { color: grey; }\n",
       ".renderjson .string        { color: #fe46a5; }\n",
       ".renderjson .number        { color: #0f9b8e; }\n",
       ".renderjson .boolean       { color: black; }\n",
       ".renderjson .key           { color: #2684ff; }\n",
       ".renderjson .keyword       { color: gray; }\n",
       ".renderjson .object.syntax { color: gray; }\n",
       ".renderjson .array.syntax  { color: gray; }</style><div id=\"ac84b3a3-265b-4abb-b465-699c151f1799\"></div>"
      ],
      "text/plain": [
       "<IPython.core.display.HTML object>"
      ]
     },
     "metadata": {},
     "output_type": "display_data"
    },
    {
     "data": {
      "text/html": [
       "<script>var renderjson=function(){var t=function(){for(var t=[];arguments.length;)t.push(n(s(Array.prototype.shift.call(arguments)),o(Array.prototype.shift.call(arguments))));return t},n=function(){for(var t=Array.prototype.shift.call(arguments),e=0;e<arguments.length;e++)arguments[e].constructor==Array?n.apply(this,[t].concat(arguments[e])):t.appendChild(arguments[e]);return t},e=function(t,n){return t.insertBefore(n,t.firstChild),t},r=function(t,n){var e=n||Object.keys(t);for(var r in e)if(Object.hasOwnProperty.call(t,e[r]))return!1;return!0},o=function(t){return document.createTextNode(t)},s=function(t){var n=document.createElement(\"span\");return t&&(n.className=t),n},l=function(t,n,e){var r=document.createElement(\"a\");return n&&(r.className=n),r.appendChild(o(t)),r.href=\"#\",r.onclick=function(t){return e(),t&&t.stopPropagation(),!1},r};function a(i,c,u,p,y){var _=u?\"\":c,f=function(r,a,i,c,u){var f,g=s(c),h=function(){f||n(g.parentNode,f=e(u(),l(y.hide,\"disclosure\",(function(){f.style.display=\"none\",g.style.display=\"inline\"})))),f.style.display=\"inline\",g.style.display=\"none\"};n(g,l(y.show,\"disclosure\",h),t(c+\" syntax\",r),l(a,null,h),t(c+\" syntax\",i));var d=n(s(),o(_.slice(0,-1)),g);return p>0&&\"string\"!=c&&h(),d};return null===i?t(null,_,\"keyword\",\"null\"):void 0===i?t(null,_,\"keyword\",\"undefined\"):\"string\"==typeof i&&i.length>y.max_string_length?f('\"',i.substr(0,y.max_string_length)+\" ...\",'\"',\"string\",(function(){return n(s(\"string\"),t(null,_,\"string\",JSON.stringify(i)))})):\"object\"!=typeof i||[Number,String,Boolean,Date].indexOf(i.constructor)>=0?t(null,_,typeof i,JSON.stringify(i)):i.constructor==Array?0==i.length?t(null,_,\"array syntax\",\"[]\"):f(\"[\",y.collapse_msg(i.length),\"]\",\"array\",(function(){for(var e=n(s(\"array\"),t(\"array syntax\",\"[\",null,\"\\n\")),r=0;r<i.length;r++)n(e,a(y.replacer.call(i,r,i[r]),c+\"    \",!1,p-1,y),r!=i.length-1?t(\"syntax\",\",\"):[],o(\"\\n\"));return n(e,t(null,c,\"array syntax\",\"]\")),e})):r(i,y.property_list)?t(null,_,\"object syntax\",\"{}\"):f(\"{\",y.collapse_msg(Object.keys(i).length),\"}\",\"object\",(function(){var e=n(s(\"object\"),t(\"object syntax\",\"{\",null,\"\\n\"));for(var r in i)var l=r;var u=y.property_list||Object.keys(i);for(var _ in y.sort_objects&&(u=u.sort()),u){(r=u[_])in i&&n(e,t(null,c+\"    \",\"key\",'\"'+r+'\"',\"object syntax\",\": \"),a(y.replacer.call(i,r,i[r]),c+\"    \",!0,p-1,y),r!=l?t(\"syntax\",\",\"):[],o(\"\\n\"))}return n(e,t(null,c,\"object syntax\",\"}\")),e}))}var i=function t(e){var r=new Object(t.options);r.replacer=\"function\"==typeof r.replacer?r.replacer:function(t,n){return n};var o=n(document.createElement(\"pre\"),a(e,\"\",!1,r.show_to_level,r));return o.className=\"renderjson\",o};return i.set_icons=function(t,n){return i.options.show=t,i.options.hide=n,i},i.set_show_to_level=function(t){return i.options.show_to_level=\"string\"==typeof t&&\"all\"===t.toLowerCase()?Number.MAX_VALUE:t,i},i.set_max_string_length=function(t){return i.options.max_string_length=\"string\"==typeof t&&\"none\"===t.toLowerCase()?Number.MAX_VALUE:t,i},i.set_sort_objects=function(t){return i.options.sort_objects=t,i},i.set_replacer=function(t){return i.options.replacer=t,i},i.set_collapse_msg=function(t){return i.options.collapse_msg=t,i},i.set_property_list=function(t){return i.options.property_list=t,i},i.set_show_by_default=function(t){return i.options.show_to_level=t?Number.MAX_VALUE:0,i},i.options={},i.set_icons(\"⊕\",\"⊖\"),i.set_show_by_default(!1),i.set_sort_objects(!1),i.set_max_string_length(\"none\"),i.set_replacer(void 0),i.set_property_list(void 0),i.set_collapse_msg((function(t){return t+\" item\"+(1==t?\"\":\"s\")})),i}(); renderjson.set_show_to_level(1); document.getElementById(\"ac84b3a3-265b-4abb-b465-699c151f1799\").appendChild(renderjson({\"category_id\": 13, \"category_str\": \"stop sign\", \"attributes\": {\"colors\": [\"red\", \"white\"], \"occluded\": true}}))</script>"
      ],
      "text/plain": [
       "<IPython.core.display.HTML object>"
      ]
     },
     "metadata": {},
     "output_type": "display_data"
    }
   ],
   "source": [
    "from lours.dataset.io.schema_util import remap_dict\n",
    "\n",
    "flat_dict = schema_dataset.annotations.iloc[0].to_dict()\n",
    "mr.JSON(flat_dict)\n",
    "\n",
    "nested_dict = remap_dict(flat_dict, get_remapping_dict_from_schema(annotations_schema))\n",
    "mr.JSON(nested_dict)"
   ]
  },
  {
   "cell_type": "markdown",
   "id": "0f54b8a1-94b1-40c6-93b1-4ae2cca0ec52",
   "metadata": {},
   "source": [
    "## Using a custom schema"
   ]
  },
  {
   "cell_type": "markdown",
   "id": "582e7e7d-685b-42e2-b0e5-6f29e715a3ce",
   "metadata": {},
   "source": [
    "If you have custom data that you want to work with, you can give your own json schema instead of the ones provided by the official package.\n",
    "\n",
    "The given schema to `from_caipy` and `from_caipy_generic` can be either a path to a json or directly a dictionary.\n",
    "\n",
    "In the following schema, the value \"turquoise\" is now considered as a valid value in image's spectrum. Also, the possible values for list items for annotations colors (`annotation[\"attributes\"][\"colors\"]`) and annotations actions (`annotations[\"attributes\"][\"actions\"]`) and reduced to only 2 possible items each. Respectively \"blue\" and \"white\" for colors, and \"sitting\" and \"laying\" for actions.\n"
   ]
  },
  {
   "cell_type": "code",
   "execution_count": 14,
   "id": "558af890-daf3-4054-8bf5-465bcb40c2ff",
   "metadata": {},
   "outputs": [
    {
     "data": {
      "text/html": [
       "<style>.renderjson a              { text-decoration: none; }\n",
       ".renderjson .disclosure    { color: grey; font-size: 125%; }\n",
       ".renderjson .syntax        { color: grey; }\n",
       ".renderjson .string        { color: #fe46a5; }\n",
       ".renderjson .number        { color: #0f9b8e; }\n",
       ".renderjson .boolean       { color: black; }\n",
       ".renderjson .key           { color: #2684ff; }\n",
       ".renderjson .keyword       { color: gray; }\n",
       ".renderjson .object.syntax { color: gray; }\n",
       ".renderjson .array.syntax  { color: gray; }</style><div id=\"676b75c1-11cb-4bb4-b46c-28d827842464\"></div>"
      ],
      "text/plain": [
       "<IPython.core.display.HTML object>"
      ]
     },
     "metadata": {},
     "output_type": "display_data"
    },
    {
     "data": {
      "text/html": [
       "<script>var renderjson=function(){var t=function(){for(var t=[];arguments.length;)t.push(n(s(Array.prototype.shift.call(arguments)),o(Array.prototype.shift.call(arguments))));return t},n=function(){for(var t=Array.prototype.shift.call(arguments),e=0;e<arguments.length;e++)arguments[e].constructor==Array?n.apply(this,[t].concat(arguments[e])):t.appendChild(arguments[e]);return t},e=function(t,n){return t.insertBefore(n,t.firstChild),t},r=function(t,n){var e=n||Object.keys(t);for(var r in e)if(Object.hasOwnProperty.call(t,e[r]))return!1;return!0},o=function(t){return document.createTextNode(t)},s=function(t){var n=document.createElement(\"span\");return t&&(n.className=t),n},l=function(t,n,e){var r=document.createElement(\"a\");return n&&(r.className=n),r.appendChild(o(t)),r.href=\"#\",r.onclick=function(t){return e(),t&&t.stopPropagation(),!1},r};function a(i,c,u,p,y){var _=u?\"\":c,f=function(r,a,i,c,u){var f,g=s(c),h=function(){f||n(g.parentNode,f=e(u(),l(y.hide,\"disclosure\",(function(){f.style.display=\"none\",g.style.display=\"inline\"})))),f.style.display=\"inline\",g.style.display=\"none\"};n(g,l(y.show,\"disclosure\",h),t(c+\" syntax\",r),l(a,null,h),t(c+\" syntax\",i));var d=n(s(),o(_.slice(0,-1)),g);return p>0&&\"string\"!=c&&h(),d};return null===i?t(null,_,\"keyword\",\"null\"):void 0===i?t(null,_,\"keyword\",\"undefined\"):\"string\"==typeof i&&i.length>y.max_string_length?f('\"',i.substr(0,y.max_string_length)+\" ...\",'\"',\"string\",(function(){return n(s(\"string\"),t(null,_,\"string\",JSON.stringify(i)))})):\"object\"!=typeof i||[Number,String,Boolean,Date].indexOf(i.constructor)>=0?t(null,_,typeof i,JSON.stringify(i)):i.constructor==Array?0==i.length?t(null,_,\"array syntax\",\"[]\"):f(\"[\",y.collapse_msg(i.length),\"]\",\"array\",(function(){for(var e=n(s(\"array\"),t(\"array syntax\",\"[\",null,\"\\n\")),r=0;r<i.length;r++)n(e,a(y.replacer.call(i,r,i[r]),c+\"    \",!1,p-1,y),r!=i.length-1?t(\"syntax\",\",\"):[],o(\"\\n\"));return n(e,t(null,c,\"array syntax\",\"]\")),e})):r(i,y.property_list)?t(null,_,\"object syntax\",\"{}\"):f(\"{\",y.collapse_msg(Object.keys(i).length),\"}\",\"object\",(function(){var e=n(s(\"object\"),t(\"object syntax\",\"{\",null,\"\\n\"));for(var r in i)var l=r;var u=y.property_list||Object.keys(i);for(var _ in y.sort_objects&&(u=u.sort()),u){(r=u[_])in i&&n(e,t(null,c+\"    \",\"key\",'\"'+r+'\"',\"object syntax\",\": \"),a(y.replacer.call(i,r,i[r]),c+\"    \",!0,p-1,y),r!=l?t(\"syntax\",\",\"):[],o(\"\\n\"))}return n(e,t(null,c,\"object syntax\",\"}\")),e}))}var i=function t(e){var r=new Object(t.options);r.replacer=\"function\"==typeof r.replacer?r.replacer:function(t,n){return n};var o=n(document.createElement(\"pre\"),a(e,\"\",!1,r.show_to_level,r));return o.className=\"renderjson\",o};return i.set_icons=function(t,n){return i.options.show=t,i.options.hide=n,i},i.set_show_to_level=function(t){return i.options.show_to_level=\"string\"==typeof t&&\"all\"===t.toLowerCase()?Number.MAX_VALUE:t,i},i.set_max_string_length=function(t){return i.options.max_string_length=\"string\"==typeof t&&\"none\"===t.toLowerCase()?Number.MAX_VALUE:t,i},i.set_sort_objects=function(t){return i.options.sort_objects=t,i},i.set_replacer=function(t){return i.options.replacer=t,i},i.set_collapse_msg=function(t){return i.options.collapse_msg=t,i},i.set_property_list=function(t){return i.options.property_list=t,i},i.set_show_by_default=function(t){return i.options.show_to_level=t?Number.MAX_VALUE:0,i},i.options={},i.set_icons(\"⊕\",\"⊖\"),i.set_show_by_default(!1),i.set_sort_objects(!1),i.set_max_string_length(\"none\"),i.set_replacer(void 0),i.set_property_list(void 0),i.set_collapse_msg((function(t){return t+\" item\"+(1==t?\"\":\"s\")})),i}(); renderjson.set_show_to_level(1); document.getElementById(\"676b75c1-11cb-4bb4-b46c-28d827842464\").appendChild(renderjson({\"$schema\": \"http://json-schema.org/draft-07/schema#\", \"$id\": \"https://github.com/XXII-AI/Lours\", \"type\": \"object\", \"properties\": {\"image\": {\"type\": \"object\", \"properties\": {\"file_name\": {\"type\": \"string\"}, \"id\": {\"type\": \"integer\", \"minimum\": 0}, \"width\": {\"type\": \"integer\", \"minimum\": 0}, \"height\": {\"type\": \"integer\", \"minimum\": 0}, \"tags\": {\"type\": \"object\", \"properties\": {\"time\": {\"enum\": [\"day\", \"night\"]}, \"weather\": {\"enum\": [\"rainy\", \"sunny\", \"snowy\", \"foggy\", \"cloudy\", \"clear\"]}}}}, \"required\": [\"file_name\", \"id\", \"width\", \"height\"]}, \"annotations\": {\"type\": \"array\", \"items\": {\"type\": \"object\", \"properties\": {\"id\": {\"type\": \"integer\", \"minimum\": 0}, \"parent_id\": {\"type\": \"integer\", \"minimum\": 0}, \"children_ids\": {\"type\": \"array\", \"items\": {\"type\": \"integer\", \"minimum\": 0}, \"uniqueItems\": true}, \"tracking_id\": {\"type\": \"integer\", \"minimum\": 0}, \"category_id\": {\"type\": \"integer\", \"minimum\": 0}, \"category_str\": {\"type\": \"string\"}, \"confidence\": {\"type\": \"number\", \"minimum\": 0, \"maximum\": 1}, \"bbox\": {\"type\": \"array\", \"items\": {\"type\": \"number\", \"minimum\": 0}, \"minItems\": 2, \"maxItems\": 4}, \"attributes\": {\"type\": \"object\", \"properties\": {\"colors\": {\"type\": \"array\", \"items\": {\"enum\": [\"red\", \"green\", \"yellow\", \"blue\", \"black\", \"orange\", \"purple\", \"grey\", \"brown\", \"pink\", \"beige\", \"cyan\", \"turquoise\"]}, \"uniqueItems\": true}, \"position\": {\"type\": \"array\", \"items\": {\"enum\": [\"side\", \"front\", \"top\", \"back\", \"unknown\"]}, \"uniqueItems\": true}, \"occluded\": {\"type\": \"boolean\"}}}}, \"required\": [\"id\", \"category_id\", \"bbox\"]}}}}))</script>"
      ],
      "text/plain": [
       "<IPython.core.display.HTML object>"
      ]
     },
     "metadata": {},
     "output_type": "display_data"
    }
   ],
   "source": [
    "with open(\"../../test_lours/test_data/caipy_dataset/tags/custom_schema.json\") as f:\n",
    "    custom_schema = json.load(f)\n",
    "\n",
    "mr.JSON(custom_schema)"
   ]
  },
  {
   "cell_type": "code",
   "execution_count": 15,
   "id": "8204ae39-103e-444d-a18c-86dd285feb3f",
   "metadata": {},
   "outputs": [],
   "source": [
    "from lours.dataset import from_caipy_generic"
   ]
  },
  {
   "cell_type": "markdown",
   "id": "880ad091-ffee-477c-a539-c15934925a44",
   "metadata": {},
   "source": [
    "As mentioned above, this cell will fail because by default caipy expects the CA-V5.b schema"
   ]
  },
  {
   "cell_type": "code",
   "execution_count": 16,
   "id": "76b8077b-8506-40c6-92f0-74bf58156d17",
   "metadata": {
    "tags": [
     "raises-exception"
    ]
   },
   "outputs": [
    {
     "name": "stdout",
     "output_type": "stream",
     "text": [
      "specifying a fictive path for images : ../../test_lours/test_data/caipy_dataset/tags/Images\n"
     ]
    },
    {
     "data": {
      "application/vnd.jupyter.widget-view+json": {
       "model_id": "e8bbf1c121694b819c95b56fce893fb2",
       "version_major": 2,
       "version_minor": 0
      },
      "text/plain": [
       "  0%|          | 0/1 [00:00<?, ?it/s]"
      ]
     },
     "metadata": {},
     "output_type": "display_data"
    },
    {
     "ename": "ValidationError",
     "evalue": "\"turquoise\" is not one of [\"red\",\"green\",\"yellow\",\"blue\",\"white\",\"black\",\"orange\",\"purple\",\"grey\",\"brown\",\"pink\",\"beige\",\"cyan\"]\n\nFailed validating \"enum\" in schema[\"properties\"][\"annotations\"][\"items\"][\"properties\"][\"attributes\"][\"properties\"][\"colors\"][\"items\"]\n\nOn instance[\"annotations\"][0][\"attributes\"][\"colors\"][1]:\n    \"turquoise\"",
     "output_type": "error",
     "traceback": [
      "\u001b[0;31m---------------------------------------------------------------------------\u001b[0m",
      "\u001b[0;31mValidationError\u001b[0m                           Traceback (most recent call last)",
      "Cell \u001b[0;32mIn[16], line 1\u001b[0m\n\u001b[0;32m----> 1\u001b[0m dataset \u001b[38;5;241m=\u001b[39m \u001b[43mfrom_caipy_generic\u001b[49m\u001b[43m(\u001b[49m\n\u001b[1;32m      2\u001b[0m \u001b[43m    \u001b[49m\u001b[43mimages_folder\u001b[49m\u001b[38;5;241;43m=\u001b[39;49m\u001b[38;5;28;43;01mNone\u001b[39;49;00m\u001b[43m,\u001b[49m\n\u001b[1;32m      3\u001b[0m \u001b[43m    \u001b[49m\u001b[43mannotations_folder\u001b[49m\u001b[38;5;241;43m=\u001b[39;49m\u001b[38;5;124;43m\"\u001b[39;49m\u001b[38;5;124;43m../../test_lours/test_data/caipy_dataset/tags/custom_schema/\u001b[39;49m\u001b[38;5;124;43m\"\u001b[39;49m\u001b[43m,\u001b[49m\n\u001b[1;32m      4\u001b[0m \u001b[43m    \u001b[49m\u001b[43muse_schema\u001b[49m\u001b[38;5;241;43m=\u001b[39;49m\u001b[38;5;28;43;01mTrue\u001b[39;49;00m\u001b[43m,\u001b[49m\n\u001b[1;32m      5\u001b[0m \u001b[43m)\u001b[49m\n",
      "File \u001b[0;32m~/workspace/Bamboo/lours/dataset/io/caipy.py:326\u001b[0m, in \u001b[0;36mfrom_caipy_generic\u001b[0;34m(images_folder, annotations_folder, dataset_name, split, splits_to_read, use_schema, json_schema, booleanize)\u001b[0m\n\u001b[1;32m    323\u001b[0m     dataset \u001b[38;5;241m+\u001b[39m\u001b[38;5;241m=\u001b[39m split_dataset\n\u001b[1;32m    325\u001b[0m \u001b[38;5;28;01mif\u001b[39;00m \u001b[38;5;28mlen\u001b[39m(dataset) \u001b[38;5;241m==\u001b[39m \u001b[38;5;241m0\u001b[39m \u001b[38;5;129;01mand\u001b[39;00m splits_to_read \u001b[38;5;129;01mis\u001b[39;00m \u001b[38;5;28;01mNone\u001b[39;00m:\n\u001b[0;32m--> 326\u001b[0m     dataset \u001b[38;5;241m=\u001b[39m \u001b[43mload_caipy_split\u001b[49m\u001b[43m(\u001b[49m\n\u001b[1;32m    327\u001b[0m \u001b[43m        \u001b[49m\u001b[43mimages_folder\u001b[49m\u001b[38;5;241;43m=\u001b[39;49m\u001b[43mimages_folder\u001b[49m\u001b[43m,\u001b[49m\n\u001b[1;32m    328\u001b[0m \u001b[43m        \u001b[49m\u001b[43mannotations_folder\u001b[49m\u001b[38;5;241;43m=\u001b[39;49m\u001b[43mannotations_folder\u001b[49m\u001b[43m,\u001b[49m\n\u001b[1;32m    329\u001b[0m \u001b[43m        \u001b[49m\u001b[43mdataset_name\u001b[49m\u001b[38;5;241;43m=\u001b[39;49m\u001b[43mdataset_name\u001b[49m\u001b[43m,\u001b[49m\n\u001b[1;32m    330\u001b[0m \u001b[43m        \u001b[49m\u001b[43msplit_name\u001b[49m\u001b[38;5;241;43m=\u001b[39;49m\u001b[43msplit\u001b[49m\u001b[43m,\u001b[49m\n\u001b[1;32m    331\u001b[0m \u001b[43m        \u001b[49m\u001b[43mschema\u001b[49m\u001b[38;5;241;43m=\u001b[39;49m\u001b[43mschema\u001b[49m\u001b[43m,\u001b[49m\n\u001b[1;32m    332\u001b[0m \u001b[43m    \u001b[49m\u001b[43m)\u001b[49m\n\u001b[1;32m    334\u001b[0m \u001b[38;5;28;01mif\u001b[39;00m schema \u001b[38;5;129;01mis\u001b[39;00m \u001b[38;5;129;01mnot\u001b[39;00m \u001b[38;5;28;01mNone\u001b[39;00m:\n\u001b[1;32m    335\u001b[0m     image_schema \u001b[38;5;241m=\u001b[39m schema[\u001b[38;5;124m\"\u001b[39m\u001b[38;5;124mproperties\u001b[39m\u001b[38;5;124m\"\u001b[39m][\u001b[38;5;124m\"\u001b[39m\u001b[38;5;124mimage\u001b[39m\u001b[38;5;124m\"\u001b[39m]\n",
      "File \u001b[0;32m~/workspace/Bamboo/lours/dataset/io/caipy.py:132\u001b[0m, in \u001b[0;36mload_caipy_split\u001b[0;34m(images_folder, annotations_folder, dataset_name, split_name, schema)\u001b[0m\n\u001b[1;32m    105\u001b[0m \u001b[38;5;28;01mdef\u001b[39;00m \u001b[38;5;21mload_caipy_split\u001b[39m(\n\u001b[1;32m    106\u001b[0m     images_folder: Path,\n\u001b[1;32m    107\u001b[0m     annotations_folder: Path,\n\u001b[0;32m   (...)\u001b[0m\n\u001b[1;32m    110\u001b[0m     schema: \u001b[38;5;28mdict\u001b[39m \u001b[38;5;241m|\u001b[39m \u001b[38;5;28;01mNone\u001b[39;00m \u001b[38;5;241m=\u001b[39m \u001b[38;5;28;01mNone\u001b[39;00m,\n\u001b[1;32m    111\u001b[0m ) \u001b[38;5;241m-\u001b[39m\u001b[38;5;241m>\u001b[39m Dataset:\n\u001b[1;32m    112\u001b[0m \u001b[38;5;250m    \u001b[39m\u001b[38;5;124;03m\"\"\"Load a particular caipy split folder and convert it to a lours Dataset\u001b[39;00m\n\u001b[1;32m    113\u001b[0m \n\u001b[1;32m    114\u001b[0m \u001b[38;5;124;03m    Args:\u001b[39;00m\n\u001b[0;32m   (...)\u001b[0m\n\u001b[1;32m    130\u001b[0m \u001b[38;5;124;03m        caipy splits\u001b[39;00m\n\u001b[1;32m    131\u001b[0m \u001b[38;5;124;03m    \"\"\"\u001b[39;00m\n\u001b[0;32m--> 132\u001b[0m     images, annotations \u001b[38;5;241m=\u001b[39m \u001b[43mload_caipy_annot_folder\u001b[49m\u001b[43m(\u001b[49m\u001b[43mannotations_folder\u001b[49m\u001b[43m,\u001b[49m\u001b[43m \u001b[49m\u001b[43mschema\u001b[49m\u001b[43m)\u001b[49m\n\u001b[1;32m    133\u001b[0m     \u001b[38;5;28;01mif\u001b[39;00m images \u001b[38;5;129;01mis\u001b[39;00m \u001b[38;5;129;01mnot\u001b[39;00m \u001b[38;5;28;01mNone\u001b[39;00m:\n\u001b[1;32m    134\u001b[0m         \u001b[38;5;28;01mif\u001b[39;00m \u001b[38;5;129;01mnot\u001b[39;00m images\u001b[38;5;241m.\u001b[39mindex\u001b[38;5;241m.\u001b[39mis_unique:\n",
      "File \u001b[0;32m~/workspace/Bamboo/lours/dataset/io/caipy.py:55\u001b[0m, in \u001b[0;36mload_caipy_annot_folder\u001b[0;34m(folder_path, schema)\u001b[0m\n\u001b[1;32m     53\u001b[0m     frame_data \u001b[38;5;241m=\u001b[39m json\u001b[38;5;241m.\u001b[39mload(f)\n\u001b[1;32m     54\u001b[0m \u001b[38;5;28;01mif\u001b[39;00m validator \u001b[38;5;129;01mis\u001b[39;00m \u001b[38;5;129;01mnot\u001b[39;00m \u001b[38;5;28;01mNone\u001b[39;00m:\n\u001b[0;32m---> 55\u001b[0m     validator\u001b[38;5;241m.\u001b[39mvalidate(frame_data)\n\u001b[1;32m     56\u001b[0m \u001b[38;5;28;01mif\u001b[39;00m \u001b[38;5;124m\"\u001b[39m\u001b[38;5;124mtype\u001b[39m\u001b[38;5;124m\"\u001b[39m \u001b[38;5;129;01min\u001b[39;00m frame_data\u001b[38;5;241m.\u001b[39mkeys():\n\u001b[1;32m     57\u001b[0m     \u001b[38;5;28;01massert\u001b[39;00m (\n\u001b[1;32m     58\u001b[0m         frame_data[\u001b[38;5;124m\"\u001b[39m\u001b[38;5;124mtype\u001b[39m\u001b[38;5;124m\"\u001b[39m] \u001b[38;5;241m==\u001b[39m \u001b[38;5;124m\"\u001b[39m\u001b[38;5;124minstances\u001b[39m\u001b[38;5;124m\"\u001b[39m\n\u001b[1;32m     59\u001b[0m     ), \u001b[38;5;124m\"\u001b[39m\u001b[38;5;124mOnly instance type supported for now\u001b[39m\u001b[38;5;124m\"\u001b[39m\n",
      "\u001b[0;31mValidationError\u001b[0m: \"turquoise\" is not one of [\"red\",\"green\",\"yellow\",\"blue\",\"white\",\"black\",\"orange\",\"purple\",\"grey\",\"brown\",\"pink\",\"beige\",\"cyan\"]\n\nFailed validating \"enum\" in schema[\"properties\"][\"annotations\"][\"items\"][\"properties\"][\"attributes\"][\"properties\"][\"colors\"][\"items\"]\n\nOn instance[\"annotations\"][0][\"attributes\"][\"colors\"][1]:\n    \"turquoise\""
     ]
    }
   ],
   "source": [
    "dataset = from_caipy_generic(\n",
    "    images_folder=None,\n",
    "    annotations_folder=\"../../test_lours/test_data/caipy_dataset/tags/custom_schema/\",\n",
    "    use_schema=True,\n",
    ")"
   ]
  },
  {
   "cell_type": "markdown",
   "id": "077e2450-e510-4c8c-aea0-9a4aee104453",
   "metadata": {},
   "source": [
    "This one will succeed\n",
    "\n",
    "Also note that booleanize columns are less numerous for `attributes.actions` and `attributes.colors`"
   ]
  },
  {
   "cell_type": "code",
   "execution_count": 17,
   "id": "19a2abea-83e2-41a8-8689-9ad7104ff60c",
   "metadata": {},
   "outputs": [
    {
     "name": "stdout",
     "output_type": "stream",
     "text": [
      "specifying a fictive path for images : ../../test_lours/test_data/caipy_dataset/tags/Images\n"
     ]
    },
    {
     "data": {
      "application/vnd.jupyter.widget-view+json": {
       "model_id": "e86cdb20f4494218bb77df42d5f395a7",
       "version_major": 2,
       "version_minor": 0
      },
      "text/plain": [
       "  0%|          | 0/1 [00:00<?, ?it/s]"
      ]
     },
     "metadata": {},
     "output_type": "display_data"
    }
   ],
   "source": [
    "dataset = from_caipy_generic(\n",
    "    images_folder=None,\n",
    "    annotations_folder=\"../../test_lours/test_data/caipy_dataset/tags/custom_schema/\",\n",
    "    use_schema=True,\n",
    "    json_schema=custom_schema,\n",
    ")"
   ]
  },
  {
   "cell_type": "code",
   "execution_count": 18,
   "id": "190f3ede-670a-4e0e-99b1-8ecf965daeaa",
   "metadata": {},
   "outputs": [
    {
     "data": {
      "application/vnd.jupyter.widget-view+json": {
       "model_id": "6f90bab6fd0a433d92b6568c10011d49",
       "version_major": 2,
       "version_minor": 0
      },
      "text/plain": [
       "VBox(children=(HTML(value=\"<p><span style='white-space: pre-wrap; font-weight: bold'>Dataset object containing…"
      ]
     },
     "metadata": {},
     "output_type": "display_data"
    }
   ],
   "source": [
    "dataset"
   ]
  }
 ],
 "metadata": {
  "kernelspec": {
   "display_name": "Python 3 (ipykernel)",
   "language": "python",
   "name": "python3"
  },
  "language_info": {
   "codemirror_mode": {
    "name": "ipython",
    "version": 3
   },
   "file_extension": ".py",
   "mimetype": "text/x-python",
   "name": "python",
   "nbconvert_exporter": "python",
   "pygments_lexer": "ipython3",
   "version": "3.11.9"
  },
  "widgets": {
   "application/vnd.jupyter.widget-state+json": {
    "state": {
     "020d9542b75c45f6855127e769e6c32e": {
      "model_module": "@jupyter-widgets/base",
      "model_module_version": "2.0.0",
      "model_name": "LayoutModel",
      "state": {}
     },
     "0472a0c52b384c20bac6bba7be697d7a": {
      "model_module": "@jupyter-widgets/base",
      "model_module_version": "2.0.0",
      "model_name": "LayoutModel",
      "state": {}
     },
     "0778ae2a76624d2bb213cfd3edc6b0c0": {
      "model_module": "@jupyter-widgets/base",
      "model_module_version": "2.0.0",
      "model_name": "LayoutModel",
      "state": {}
     },
     "07c8022be9374b64aa3c20cf242c8cfe": {
      "model_module": "@jupyter-widgets/controls",
      "model_module_version": "2.0.0",
      "model_name": "FloatProgressModel",
      "state": {
       "bar_style": "success",
       "layout": "IPY_MODEL_7261a2e98e4044d4a94b6cfcc1b66bf4",
       "max": 2,
       "style": "IPY_MODEL_747f2dd2e1ba4ddd86bfc4dd09db8fd8",
       "value": 2
      }
     },
     "08145d806a2e44a2b0c0b5b53c16e157": {
      "model_module": "@jupyter-widgets/controls",
      "model_module_version": "2.0.0",
      "model_name": "LabelStyleModel",
      "state": {
       "description_width": "",
       "font_family": null,
       "font_size": null,
       "font_style": null,
       "font_variant": null,
       "font_weight": null,
       "text_color": null,
       "text_decoration": null
      }
     },
     "0af99b88e526451a8f116aa914a03c85": {
      "model_module": "@jupyter-widgets/controls",
      "model_module_version": "2.0.0",
      "model_name": "LinkModel",
      "state": {
       "source": [
        "IPY_MODEL_6eb8130148024f58af7d2dfa7afea151",
        "index"
       ],
       "target": [
        "IPY_MODEL_a0ac4aaf7a5449e09f480e6201bc05cb",
        "selected_index"
       ]
      }
     },
     "0b51da5c21874f6580a40b2b7febf6aa": {
      "model_module": "@jupyter-widgets/base",
      "model_module_version": "2.0.0",
      "model_name": "LayoutModel",
      "state": {}
     },
     "0cab193239a241ffb35beb1b574f5c7b": {
      "model_module": "@jupyter-widgets/base",
      "model_module_version": "2.0.0",
      "model_name": "LayoutModel",
      "state": {}
     },
     "1202c640ef9f41bbbc914724efe44bc1": {
      "model_module": "@jupyter-widgets/controls",
      "model_module_version": "2.0.0",
      "model_name": "VBoxModel",
      "state": {
       "children": [
        "IPY_MODEL_ed741ca35a4d43d381ed7b2535bf8072",
        "IPY_MODEL_549d413cb13845379ee6a3a78e409fd7"
       ],
       "layout": "IPY_MODEL_512e1e5adafb41cbb38e71f29abd2a11"
      }
     },
     "132a6bc35e734f4f83266d240d1cd744": {
      "model_module": "@jupyter-widgets/controls",
      "model_module_version": "2.0.0",
      "model_name": "HTMLStyleModel",
      "state": {
       "description_width": "",
       "font_size": null,
       "text_color": null
      }
     },
     "1613cfa2cd45417ba93de2b5ce06cff1": {
      "model_module": "@jupyter-widgets/controls",
      "model_module_version": "2.0.0",
      "model_name": "HTMLStyleModel",
      "state": {
       "description_width": "",
       "font_size": null,
       "text_color": null
      }
     },
     "1905b37bd49745b2a2e7458d07b4ce10": {
      "model_module": "@jupyter-widgets/controls",
      "model_module_version": "2.0.0",
      "model_name": "HTMLStyleModel",
      "state": {
       "description_width": "",
       "font_size": null,
       "text_color": null
      }
     },
     "1edff217974249e28897179dbf04b14a": {
      "model_module": "@jupyter-widgets/controls",
      "model_module_version": "2.0.0",
      "model_name": "HBoxModel",
      "state": {
       "children": [
        "IPY_MODEL_64a23506013b4f4fbfbb29100ab4b3bd",
        "IPY_MODEL_a6a54532063d4f2192b6d2789bdf1084",
        "IPY_MODEL_f961f09764c94c2fa7b64cda94f2edcc"
       ],
       "layout": "IPY_MODEL_57ed44748e5c4f1f82f65fe9c95a7a1a"
      }
     },
     "1f1e688f42a0486f8b9d68d1c2d7e3d9": {
      "model_module": "@jupyter-widgets/base",
      "model_module_version": "2.0.0",
      "model_name": "LayoutModel",
      "state": {}
     },
     "3386375631aa45338f7e9edce9b94b09": {
      "model_module": "@jupyter-widgets/controls",
      "model_module_version": "2.0.0",
      "model_name": "StackModel",
      "state": {
       "children": [
        "IPY_MODEL_764544f8c3b744ba9273aa7f9aad35c7",
        "IPY_MODEL_7ba1e595d0cd4e33a38718af458506e8"
       ],
       "layout": "IPY_MODEL_5a872f11b50b415fa8f19e1950438847",
       "selected_index": 0,
       "titles": [
        "",
        ""
       ]
      }
     },
     "339a0f00e9824c288198159a2f73f01e": {
      "model_module": "@jupyter-widgets/controls",
      "model_module_version": "2.0.0",
      "model_name": "ToggleButtonsStyleModel",
      "state": {
       "button_width": "auto",
       "description_width": ""
      }
     },
     "34c1d2ad78204bc7aa3de0d414b0fe0b": {
      "model_module": "@jupyter-widgets/base",
      "model_module_version": "2.0.0",
      "model_name": "LayoutModel",
      "state": {}
     },
     "3ba44a1d939448178ebc6cac1d2e714f": {
      "model_module": "@jupyter-widgets/output",
      "model_module_version": "1.0.0",
      "model_name": "OutputModel",
      "state": {
       "layout": "IPY_MODEL_8de82515a9794723b9c81fb955f3e289",
       "outputs": [
        {
         "data": {
          "text/html": "<div>\n<style scoped>\n    .dataframe tbody tr th:only-of-type {\n        vertical-align: middle;\n    }\n\n    .dataframe tbody tr th {\n        vertical-align: top;\n    }\n\n    .dataframe thead th {\n        text-align: right;\n    }\n</style>\n<table border=\"1\" class=\"dataframe\">\n  <thead>\n    <tr style=\"text-align: right;\">\n      <th></th>\n      <th>width</th>\n      <th>height</th>\n      <th>relative_path</th>\n      <th>type</th>\n      <th>tags.time</th>\n      <th>tags.weather</th>\n    </tr>\n    <tr>\n      <th>id</th>\n      <th></th>\n      <th></th>\n      <th></th>\n      <th></th>\n      <th></th>\n      <th></th>\n    </tr>\n  </thead>\n  <tbody>\n    <tr>\n      <th>200</th>\n      <td>640</td>\n      <td>427</td>\n      <td>785.jpg</td>\n      <td>.jpg</td>\n      <td>day</td>\n      <td>sunny</td>\n    </tr>\n  </tbody>\n</table>\n</div>",
          "text/plain": "     width  height relative_path  type tags.time tags.weather\nid                                                           \n200    640     427       785.jpg  .jpg       day        sunny"
         },
         "metadata": {},
         "output_type": "display_data"
        }
       ]
      }
     },
     "3c1d3ed53fcf45c8b92ac7eabb027f50": {
      "model_module": "@jupyter-widgets/controls",
      "model_module_version": "2.0.0",
      "model_name": "LabelModel",
      "state": {
       "layout": "IPY_MODEL_d19def3b87944cc99f9185b90eb2188f",
       "style": "IPY_MODEL_832c102947f9488b830e9120d8b2c67f",
       "value": "Booleanize"
      }
     },
     "3efb9b0c090f4637b0aed6db54106d50": {
      "model_module": "@jupyter-widgets/output",
      "model_module_version": "1.0.0",
      "model_name": "OutputModel",
      "state": {
       "layout": "IPY_MODEL_c01cc6cb84634d7681bec200fbf7c97c",
       "outputs": [
        {
         "data": {
          "text/html": "<style type=\"text/css\">\n#T_952b1 th {\n  border-right: 1px solid #F0F0F0;\n}\n</style>\n<table id=\"T_952b1\">\n  <thead>\n    <tr>\n      <th class=\"blank level0\" >&nbsp;</th>\n      <th id=\"T_952b1_level0_col0\" class=\"col_heading level0 col0\" >image_id</th>\n      <th id=\"T_952b1_level0_col1\" class=\"col_heading level0 col1\" >category_str</th>\n      <th id=\"T_952b1_level0_col2\" class=\"col_heading level0 col2\" >category_id</th>\n      <th id=\"T_952b1_level0_col3\" class=\"col_heading level0 col3\" >box_x_min</th>\n      <th id=\"T_952b1_level0_col4\" class=\"col_heading level0 col4\" >box_y_min</th>\n      <th id=\"T_952b1_level0_col5\" class=\"col_heading level0 col5\" >box_width</th>\n      <th id=\"T_952b1_level0_col6\" class=\"col_heading level0 col6\" >box_height</th>\n      <th id=\"T_952b1_level0_col7\" class=\"col_heading level0 col7\" >children_ids</th>\n      <th id=\"T_952b1_level0_col8\" class=\"col_heading level0 col8\" >confidence</th>\n      <th id=\"T_952b1_level0_col9\" class=\"col_heading level0 col9\" >parent_id</th>\n      <th id=\"T_952b1_level0_col10\" class=\"col_heading level0 col10\" colspan=\"3\">attributes</th>\n    </tr>\n    <tr>\n      <th class=\"blank level1\" >&nbsp;</th>\n      <th id=\"T_952b1_level1_col0\" class=\"col_heading level1 col0\" ></th>\n      <th id=\"T_952b1_level1_col1\" class=\"col_heading level1 col1\" ></th>\n      <th id=\"T_952b1_level1_col2\" class=\"col_heading level1 col2\" ></th>\n      <th id=\"T_952b1_level1_col3\" class=\"col_heading level1 col3\" ></th>\n      <th id=\"T_952b1_level1_col4\" class=\"col_heading level1 col4\" ></th>\n      <th id=\"T_952b1_level1_col5\" class=\"col_heading level1 col5\" ></th>\n      <th id=\"T_952b1_level1_col6\" class=\"col_heading level1 col6\" ></th>\n      <th id=\"T_952b1_level1_col7\" class=\"col_heading level1 col7\" ></th>\n      <th id=\"T_952b1_level1_col8\" class=\"col_heading level1 col8\" ></th>\n      <th id=\"T_952b1_level1_col9\" class=\"col_heading level1 col9\" ></th>\n      <th id=\"T_952b1_level1_col10\" class=\"col_heading level1 col10\" >occluded</th>\n      <th id=\"T_952b1_level1_col11\" class=\"col_heading level1 col11\" >colors</th>\n      <th id=\"T_952b1_level1_col12\" class=\"col_heading level1 col12\" >position</th>\n    </tr>\n    <tr>\n      <th class=\"index_name level0\" >id</th>\n      <th class=\"blank col0\" >&nbsp;</th>\n      <th class=\"blank col1\" >&nbsp;</th>\n      <th class=\"blank col2\" >&nbsp;</th>\n      <th class=\"blank col3\" >&nbsp;</th>\n      <th class=\"blank col4\" >&nbsp;</th>\n      <th class=\"blank col5\" >&nbsp;</th>\n      <th class=\"blank col6\" >&nbsp;</th>\n      <th class=\"blank col7\" >&nbsp;</th>\n      <th class=\"blank col8\" >&nbsp;</th>\n      <th class=\"blank col9\" >&nbsp;</th>\n      <th class=\"blank col10\" >&nbsp;</th>\n      <th class=\"blank col11\" >&nbsp;</th>\n      <th class=\"blank col12\" >&nbsp;</th>\n    </tr>\n  </thead>\n  <tbody>\n    <tr>\n      <th id=\"T_952b1_level0_row0\" class=\"row_heading level0 row0\" >0</th>\n      <td id=\"T_952b1_row0_col0\" class=\"data row0 col0\" >200</td>\n      <td id=\"T_952b1_row0_col1\" class=\"data row0 col1\" >person</td>\n      <td id=\"T_952b1_row0_col2\" class=\"data row0 col2\" >2</td>\n      <td id=\"T_952b1_row0_col3\" class=\"data row0 col3\" >1256.000000</td>\n      <td id=\"T_952b1_row0_col4\" class=\"data row0 col4\" >202.000000</td>\n      <td id=\"T_952b1_row0_col5\" class=\"data row0 col5\" >59.000000</td>\n      <td id=\"T_952b1_row0_col6\" class=\"data row0 col6\" >47.000000</td>\n      <td id=\"T_952b1_row0_col7\" class=\"data row0 col7\" >[]</td>\n      <td id=\"T_952b1_row0_col8\" class=\"data row0 col8\" >0.500000</td>\n      <td id=\"T_952b1_row0_col9\" class=\"data row0 col9\" >1</td>\n      <td id=\"T_952b1_row0_col10\" class=\"data row0 col10\" >True</td>\n      <td id=\"T_952b1_row0_col11\" class=\"data row0 col11\" >['blue', 'turquoise']</td>\n      <td id=\"T_952b1_row0_col12\" class=\"data row0 col12\" >[]</td>\n    </tr>\n    <tr>\n      <th id=\"T_952b1_level0_row1\" class=\"row_heading level0 row1\" >1</th>\n      <td id=\"T_952b1_row1_col0\" class=\"data row1 col0\" >200</td>\n      <td id=\"T_952b1_row1_col1\" class=\"data row1 col1\" >head</td>\n      <td id=\"T_952b1_row1_col2\" class=\"data row1 col2\" >800</td>\n      <td id=\"T_952b1_row1_col3\" class=\"data row1 col3\" >1256.000000</td>\n      <td id=\"T_952b1_row1_col4\" class=\"data row1 col4\" >202.000000</td>\n      <td id=\"T_952b1_row1_col5\" class=\"data row1 col5\" >59.000000</td>\n      <td id=\"T_952b1_row1_col6\" class=\"data row1 col6\" >47.000000</td>\n      <td id=\"T_952b1_row1_col7\" class=\"data row1 col7\" >[0]</td>\n      <td id=\"T_952b1_row1_col8\" class=\"data row1 col8\" >nan</td>\n      <td id=\"T_952b1_row1_col9\" class=\"data row1 col9\" ><NA></td>\n      <td id=\"T_952b1_row1_col10\" class=\"data row1 col10\" >None</td>\n      <td id=\"T_952b1_row1_col11\" class=\"data row1 col11\" >[]</td>\n      <td id=\"T_952b1_row1_col12\" class=\"data row1 col12\" >['side']</td>\n    </tr>\n  </tbody>\n</table>\n",
          "text/plain": "<pandas.io.formats.style.Styler at 0x17fddaf50>"
         },
         "metadata": {},
         "output_type": "display_data"
        }
       ]
      }
     },
     "49005d311ed749579739e17178d63113": {
      "model_module": "@jupyter-widgets/controls",
      "model_module_version": "2.0.0",
      "model_name": "FloatProgressModel",
      "state": {
       "bar_style": "danger",
       "layout": "IPY_MODEL_b812c9c9a28e4f659fef5b2664c63d45",
       "max": 1,
       "style": "IPY_MODEL_c88961be156e4788a619d140851f9332"
      }
     },
     "494095efddbe4d71b61a012fbf915854": {
      "model_module": "@jupyter-widgets/base",
      "model_module_version": "2.0.0",
      "model_name": "LayoutModel",
      "state": {}
     },
     "4c99ce4d531d4c93962e9128578d845e": {
      "model_module": "@jupyter-widgets/controls",
      "model_module_version": "2.0.0",
      "model_name": "HTMLModel",
      "state": {
       "layout": "IPY_MODEL_020d9542b75c45f6855127e769e6c32e",
       "style": "IPY_MODEL_c6e6d89936094b358cf8e337738c153b",
       "value": " 0/1 [00:00&lt;?, ?it/s]"
      }
     },
     "4e6a9a7046c54d3dbc3a36ce7d9d01e0": {
      "model_module": "@jupyter-widgets/base",
      "model_module_version": "2.0.0",
      "model_name": "LayoutModel",
      "state": {}
     },
     "512e1e5adafb41cbb38e71f29abd2a11": {
      "model_module": "@jupyter-widgets/base",
      "model_module_version": "2.0.0",
      "model_name": "LayoutModel",
      "state": {}
     },
     "5493f94105a7474980a9785fc1528de8": {
      "model_module": "@jupyter-widgets/controls",
      "model_module_version": "2.0.0",
      "model_name": "HBoxModel",
      "state": {
       "children": [
        "IPY_MODEL_f3133f171cfe43638d63c5cf30547758",
        "IPY_MODEL_6eb8130148024f58af7d2dfa7afea151"
       ],
       "layout": "IPY_MODEL_8111db8f01f8487588cc169fed9dcbed"
      }
     },
     "549d413cb13845379ee6a3a78e409fd7": {
      "model_module": "@jupyter-widgets/controls",
      "model_module_version": "2.0.0",
      "model_name": "DropdownModel",
      "state": {
       "_options_labels": [
        "raw",
        "nested"
       ],
       "index": 0,
       "layout": "IPY_MODEL_945580f822df48c486846b21da68dad3",
       "style": "IPY_MODEL_6e22121a4bec45e1b19131be7fc2b4c9"
      }
     },
     "57ed44748e5c4f1f82f65fe9c95a7a1a": {
      "model_module": "@jupyter-widgets/base",
      "model_module_version": "2.0.0",
      "model_name": "LayoutModel",
      "state": {}
     },
     "5829f3bb40cf45fe8cfd1f332a046774": {
      "model_module": "@jupyter-widgets/controls",
      "model_module_version": "2.0.0",
      "model_name": "HBoxModel",
      "state": {
       "children": [
        "IPY_MODEL_efdd0543154c41419318d2792c78ffb1",
        "IPY_MODEL_1202c640ef9f41bbbc914724efe44bc1"
       ],
       "layout": "IPY_MODEL_c99c8c543aef4dffb302a9e9063cb3dc"
      }
     },
     "582b250a8051424e8968e2b9769936c4": {
      "model_module": "@jupyter-widgets/controls",
      "model_module_version": "2.0.0",
      "model_name": "HTMLStyleModel",
      "state": {
       "description_width": "",
       "font_size": null,
       "text_color": null
      }
     },
     "59d75ec48f4647df9a21712316e07f34": {
      "model_module": "@jupyter-widgets/base",
      "model_module_version": "2.0.0",
      "model_name": "LayoutModel",
      "state": {}
     },
     "5a872f11b50b415fa8f19e1950438847": {
      "model_module": "@jupyter-widgets/base",
      "model_module_version": "2.0.0",
      "model_name": "LayoutModel",
      "state": {}
     },
     "5a93db12b02c4a8999caa5b9011074f6": {
      "model_module": "@jupyter-widgets/output",
      "model_module_version": "1.0.0",
      "model_name": "OutputModel",
      "state": {
       "layout": "IPY_MODEL_1f1e688f42a0486f8b9d68d1c2d7e3d9",
       "outputs": [
        {
         "data": {
          "text/html": "<style type=\"text/css\">\n#T_6b434 th {\n  border-right: 1px solid #F0F0F0;\n}\n</style>\n<table id=\"T_6b434\">\n  <thead>\n    <tr>\n      <th class=\"blank level0\" >&nbsp;</th>\n      <th id=\"T_6b434_level0_col0\" class=\"col_heading level0 col0\" >width</th>\n      <th id=\"T_6b434_level0_col1\" class=\"col_heading level0 col1\" >height</th>\n      <th id=\"T_6b434_level0_col2\" class=\"col_heading level0 col2\" >relative_path</th>\n      <th id=\"T_6b434_level0_col3\" class=\"col_heading level0 col3\" >type</th>\n      <th id=\"T_6b434_level0_col4\" class=\"col_heading level0 col4\" colspan=\"2\">tags</th>\n    </tr>\n    <tr>\n      <th class=\"blank level1\" >&nbsp;</th>\n      <th id=\"T_6b434_level1_col0\" class=\"col_heading level1 col0\" ></th>\n      <th id=\"T_6b434_level1_col1\" class=\"col_heading level1 col1\" ></th>\n      <th id=\"T_6b434_level1_col2\" class=\"col_heading level1 col2\" ></th>\n      <th id=\"T_6b434_level1_col3\" class=\"col_heading level1 col3\" ></th>\n      <th id=\"T_6b434_level1_col4\" class=\"col_heading level1 col4\" >time</th>\n      <th id=\"T_6b434_level1_col5\" class=\"col_heading level1 col5\" >weather</th>\n    </tr>\n    <tr>\n      <th class=\"index_name level0\" >id</th>\n      <th class=\"blank col0\" >&nbsp;</th>\n      <th class=\"blank col1\" >&nbsp;</th>\n      <th class=\"blank col2\" >&nbsp;</th>\n      <th class=\"blank col3\" >&nbsp;</th>\n      <th class=\"blank col4\" >&nbsp;</th>\n      <th class=\"blank col5\" >&nbsp;</th>\n    </tr>\n  </thead>\n  <tbody>\n    <tr>\n      <th id=\"T_6b434_level0_row0\" class=\"row_heading level0 row0\" >200</th>\n      <td id=\"T_6b434_row0_col0\" class=\"data row0 col0\" >640</td>\n      <td id=\"T_6b434_row0_col1\" class=\"data row0 col1\" >427</td>\n      <td id=\"T_6b434_row0_col2\" class=\"data row0 col2\" >785.jpg</td>\n      <td id=\"T_6b434_row0_col3\" class=\"data row0 col3\" >.jpg</td>\n      <td id=\"T_6b434_row0_col4\" class=\"data row0 col4\" >day</td>\n      <td id=\"T_6b434_row0_col5\" class=\"data row0 col5\" >sunny</td>\n    </tr>\n  </tbody>\n</table>\n",
          "text/plain": "<pandas.io.formats.style.Styler at 0x17fdb6190>"
         },
         "metadata": {},
         "output_type": "display_data"
        }
       ]
      }
     },
     "62af9d68b3f64503919bd7735e1967ea": {
      "model_module": "@jupyter-widgets/base",
      "model_module_version": "2.0.0",
      "model_name": "LayoutModel",
      "state": {}
     },
     "64a23506013b4f4fbfbb29100ab4b3bd": {
      "model_module": "@jupyter-widgets/controls",
      "model_module_version": "2.0.0",
      "model_name": "HTMLModel",
      "state": {
       "layout": "IPY_MODEL_a6d2854c1f394f7792db677090d9ae79",
       "style": "IPY_MODEL_c4a7b899fde3414fb88c7a3fa4e993c7",
       "value": "100%"
      }
     },
     "667e4b4282a54423b9a533fe5208dba3": {
      "model_module": "@jupyter-widgets/controls",
      "model_module_version": "2.0.0",
      "model_name": "LinkModel",
      "state": {
       "source": [
        "IPY_MODEL_549d413cb13845379ee6a3a78e409fd7",
        "index"
       ],
       "target": [
        "IPY_MODEL_764544f8c3b744ba9273aa7f9aad35c7",
        "selected_index"
       ]
      }
     },
     "6b20424f43e34457a459b9fb49563ebd": {
      "model_module": "@jupyter-widgets/base",
      "model_module_version": "2.0.0",
      "model_name": "LayoutModel",
      "state": {}
     },
     "6c6919eb334f47be98faf5ba28ec0e33": {
      "model_module": "@jupyter-widgets/controls",
      "model_module_version": "2.0.0",
      "model_name": "VBoxModel",
      "state": {
       "children": [
        "IPY_MODEL_5829f3bb40cf45fe8cfd1f332a046774",
        "IPY_MODEL_3386375631aa45338f7e9edce9b94b09"
       ],
       "layout": "IPY_MODEL_59d75ec48f4647df9a21712316e07f34"
      }
     },
     "6d440019159f4d84a3c24a4b13ff5b89": {
      "model_module": "@jupyter-widgets/base",
      "model_module_version": "2.0.0",
      "model_name": "LayoutModel",
      "state": {}
     },
     "6e22121a4bec45e1b19131be7fc2b4c9": {
      "model_module": "@jupyter-widgets/controls",
      "model_module_version": "2.0.0",
      "model_name": "DescriptionStyleModel",
      "state": {
       "description_width": ""
      }
     },
     "6eb8130148024f58af7d2dfa7afea151": {
      "model_module": "@jupyter-widgets/controls",
      "model_module_version": "2.0.0",
      "model_name": "DropdownModel",
      "state": {
       "_options_labels": [
        "raw",
        "nested"
       ],
       "index": 0,
       "layout": "IPY_MODEL_78b0abd0531a474bba9883a74b0279b6",
       "style": "IPY_MODEL_8f894354dd5d49e98c0ee8bf67ee743b"
      }
     },
     "6f90bab6fd0a433d92b6568c10011d49": {
      "model_module": "@jupyter-widgets/controls",
      "model_module_version": "2.0.0",
      "model_name": "VBoxModel",
      "state": {
       "children": [
        "IPY_MODEL_7a774d05dca449298aed214a6a24ed2a",
        "IPY_MODEL_cb0353c3b3d9478eb7698c58c9baf2d7"
       ],
       "layout": "IPY_MODEL_0b51da5c21874f6580a40b2b7febf6aa"
      }
     },
     "7067bdcd363a46de8a7715214354aad0": {
      "model_module": "@jupyter-widgets/controls",
      "model_module_version": "2.0.0",
      "model_name": "VBoxModel",
      "state": {
       "children": [
        "IPY_MODEL_5493f94105a7474980a9785fc1528de8",
        "IPY_MODEL_a0ac4aaf7a5449e09f480e6201bc05cb"
       ],
       "layout": "IPY_MODEL_6b20424f43e34457a459b9fb49563ebd"
      }
     },
     "7261a2e98e4044d4a94b6cfcc1b66bf4": {
      "model_module": "@jupyter-widgets/base",
      "model_module_version": "2.0.0",
      "model_name": "LayoutModel",
      "state": {}
     },
     "72fceef903164e3ea814bd95216dbc4f": {
      "model_module": "@jupyter-widgets/controls",
      "model_module_version": "2.0.0",
      "model_name": "LabelStyleModel",
      "state": {
       "description_width": "",
       "font_family": null,
       "font_size": null,
       "font_style": null,
       "font_variant": null,
       "font_weight": null,
       "text_color": null,
       "text_decoration": null
      }
     },
     "747f2dd2e1ba4ddd86bfc4dd09db8fd8": {
      "model_module": "@jupyter-widgets/controls",
      "model_module_version": "2.0.0",
      "model_name": "ProgressStyleModel",
      "state": {
       "description_width": ""
      }
     },
     "764544f8c3b744ba9273aa7f9aad35c7": {
      "model_module": "@jupyter-widgets/controls",
      "model_module_version": "2.0.0",
      "model_name": "StackModel",
      "state": {
       "children": [
        "IPY_MODEL_d91f4d2ae06c4d4aac4159000b6311a6",
        "IPY_MODEL_8cd7d60565f842b2a3e4839edf9a44a1"
       ],
       "layout": "IPY_MODEL_beaa9f3a774e4f73aa85f825e5f82648",
       "selected_index": 0,
       "titles": [
        "",
        ""
       ]
      }
     },
     "78b0abd0531a474bba9883a74b0279b6": {
      "model_module": "@jupyter-widgets/base",
      "model_module_version": "2.0.0",
      "model_name": "LayoutModel",
      "state": {}
     },
     "7a774d05dca449298aed214a6a24ed2a": {
      "model_module": "@jupyter-widgets/controls",
      "model_module_version": "2.0.0",
      "model_name": "HTMLModel",
      "state": {
       "layout": "IPY_MODEL_ee240d46f88a48a1bcbc6fb7e7dd7314",
       "style": "IPY_MODEL_582b250a8051424e8968e2b9769936c4",
       "value": "<p><span style='white-space: pre-wrap; font-weight: bold'>Dataset object containing 1 image and 2 objects\nName :\n\tNone\nImages root :\n\t../../test_lours/test_data/caipy_dataset/tags/Images</span></p>"
      }
     },
     "7b411ff204894507b1e05046a27c96d6": {
      "model_module": "@jupyter-widgets/output",
      "model_module_version": "1.0.0",
      "model_name": "OutputModel",
      "state": {
       "layout": "IPY_MODEL_ac4ff6daf42a4e38866e6307e6423c1c",
       "outputs": [
        {
         "data": {
          "text/html": "<div>\n<style scoped>\n    .dataframe tbody tr th:only-of-type {\n        vertical-align: middle;\n    }\n\n    .dataframe tbody tr th {\n        vertical-align: top;\n    }\n\n    .dataframe thead th {\n        text-align: right;\n    }\n</style>\n<table border=\"1\" class=\"dataframe\">\n  <thead>\n    <tr style=\"text-align: right;\">\n      <th></th>\n      <th>category string</th>\n    </tr>\n    <tr>\n      <th>category_id</th>\n      <th></th>\n    </tr>\n  </thead>\n  <tbody>\n    <tr>\n      <th>2</th>\n      <td>person</td>\n    </tr>\n    <tr>\n      <th>800</th>\n      <td>head</td>\n    </tr>\n  </tbody>\n</table>\n</div>",
          "text/plain": "            category string\ncategory_id                \n2                    person\n800                    head"
         },
         "metadata": {},
         "output_type": "display_data"
        }
       ]
      }
     },
     "7ba1e595d0cd4e33a38718af458506e8": {
      "model_module": "@jupyter-widgets/controls",
      "model_module_version": "2.0.0",
      "model_name": "StackModel",
      "state": {
       "children": [
        "IPY_MODEL_8be6b7114e624437a0780fc41bbcde4b",
        "IPY_MODEL_3efb9b0c090f4637b0aed6db54106d50"
       ],
       "layout": "IPY_MODEL_ff0060cae9d94b33b4a5e385735a2438",
       "selected_index": 0,
       "titles": [
        "",
        ""
       ]
      }
     },
     "8111db8f01f8487588cc169fed9dcbed": {
      "model_module": "@jupyter-widgets/base",
      "model_module_version": "2.0.0",
      "model_name": "LayoutModel",
      "state": {}
     },
     "816bc188d37b45989b66a38657e2ced7": {
      "model_module": "@jupyter-widgets/base",
      "model_module_version": "2.0.0",
      "model_name": "LayoutModel",
      "state": {}
     },
     "832c102947f9488b830e9120d8b2c67f": {
      "model_module": "@jupyter-widgets/controls",
      "model_module_version": "2.0.0",
      "model_name": "LabelStyleModel",
      "state": {
       "description_width": "",
       "font_family": null,
       "font_size": null,
       "font_style": null,
       "font_variant": null,
       "font_weight": null,
       "text_color": null,
       "text_decoration": null
      }
     },
     "83fa3e7b01c3437fa9ada7adbb43a4ab": {
      "model_module": "@jupyter-widgets/controls",
      "model_module_version": "2.0.0",
      "model_name": "HBoxModel",
      "state": {
       "children": [
        "IPY_MODEL_add0fbf1df5b43c3905fb329c24f0c7c",
        "IPY_MODEL_07c8022be9374b64aa3c20cf242c8cfe",
        "IPY_MODEL_e14b398b9ec5451ca69dcce3c74f9d6a"
       ],
       "layout": "IPY_MODEL_6d440019159f4d84a3c24a4b13ff5b89"
      }
     },
     "84100c7e780c4dd6909bd6fe2f99ca2d": {
      "model_module": "@jupyter-widgets/base",
      "model_module_version": "2.0.0",
      "model_name": "LayoutModel",
      "state": {}
     },
     "88cba09fff7143e286cdcf19e8456a78": {
      "model_module": "@jupyter-widgets/base",
      "model_module_version": "2.0.0",
      "model_name": "LayoutModel",
      "state": {}
     },
     "8be6b7114e624437a0780fc41bbcde4b": {
      "model_module": "@jupyter-widgets/output",
      "model_module_version": "1.0.0",
      "model_name": "OutputModel",
      "state": {
       "layout": "IPY_MODEL_f8058b4477c94a9facda7722e1640667",
       "outputs": [
        {
         "data": {
          "text/html": "<div>\n<style scoped>\n    .dataframe tbody tr th:only-of-type {\n        vertical-align: middle;\n    }\n\n    .dataframe tbody tr th {\n        vertical-align: top;\n    }\n\n    .dataframe thead th {\n        text-align: right;\n    }\n</style>\n<table border=\"1\" class=\"dataframe\">\n  <thead>\n    <tr style=\"text-align: right;\">\n      <th></th>\n      <th>image_id</th>\n      <th>category_str</th>\n      <th>category_id</th>\n      <th>box_x_min</th>\n      <th>box_y_min</th>\n      <th>box_width</th>\n      <th>box_height</th>\n      <th>children_ids</th>\n      <th>confidence</th>\n      <th>parent_id</th>\n      <th>attributes.occluded</th>\n      <th>attributes.colors</th>\n      <th>attributes.position</th>\n    </tr>\n    <tr>\n      <th>id</th>\n      <th></th>\n      <th></th>\n      <th></th>\n      <th></th>\n      <th></th>\n      <th></th>\n      <th></th>\n      <th></th>\n      <th></th>\n      <th></th>\n      <th></th>\n      <th></th>\n      <th></th>\n    </tr>\n  </thead>\n  <tbody>\n    <tr>\n      <th>0</th>\n      <td>200</td>\n      <td>person</td>\n      <td>2</td>\n      <td>1256.0</td>\n      <td>202.0</td>\n      <td>59.0</td>\n      <td>47.0</td>\n      <td>[]</td>\n      <td>0.5</td>\n      <td>1</td>\n      <td>True</td>\n      <td>[blue, turquoise]</td>\n      <td>[]</td>\n    </tr>\n    <tr>\n      <th>1</th>\n      <td>200</td>\n      <td>head</td>\n      <td>800</td>\n      <td>1256.0</td>\n      <td>202.0</td>\n      <td>59.0</td>\n      <td>47.0</td>\n      <td>[0]</td>\n      <td>NaN</td>\n      <td>&lt;NA&gt;</td>\n      <td>None</td>\n      <td>[]</td>\n      <td>[side]</td>\n    </tr>\n  </tbody>\n</table>\n</div>",
          "text/plain": "    image_id category_str  category_id  box_x_min  box_y_min  box_width  \\\nid                                                                        \n0        200       person            2     1256.0      202.0       59.0   \n1        200         head          800     1256.0      202.0       59.0   \n\n    box_height children_ids  confidence  parent_id attributes.occluded  \\\nid                                                                       \n0         47.0           []         0.5          1                True   \n1         47.0          [0]         NaN       <NA>                None   \n\n    attributes.colors attributes.position  \nid                                         \n0   [blue, turquoise]                  []  \n1                  []              [side]  "
         },
         "metadata": {},
         "output_type": "display_data"
        }
       ]
      }
     },
     "8cafb999451f4221a8124d400bc0a55d": {
      "model_module": "@jupyter-widgets/base",
      "model_module_version": "2.0.0",
      "model_name": "LayoutModel",
      "state": {}
     },
     "8cd7d60565f842b2a3e4839edf9a44a1": {
      "model_module": "@jupyter-widgets/output",
      "model_module_version": "1.0.0",
      "model_name": "OutputModel",
      "state": {
       "layout": "IPY_MODEL_a6996a82cace49d999cbed1a4fb0abdb",
       "outputs": [
        {
         "data": {
          "text/html": "<style type=\"text/css\">\n#T_4fead th {\n  border-right: 1px solid #F0F0F0;\n}\n</style>\n<table id=\"T_4fead\">\n  <thead>\n    <tr>\n      <th class=\"blank level0\" >&nbsp;</th>\n      <th id=\"T_4fead_level0_col0\" class=\"col_heading level0 col0\" >image_id</th>\n      <th id=\"T_4fead_level0_col1\" class=\"col_heading level0 col1\" >category_str</th>\n      <th id=\"T_4fead_level0_col2\" class=\"col_heading level0 col2\" >category_id</th>\n      <th id=\"T_4fead_level0_col3\" class=\"col_heading level0 col3\" >box_x_min</th>\n      <th id=\"T_4fead_level0_col4\" class=\"col_heading level0 col4\" >box_y_min</th>\n      <th id=\"T_4fead_level0_col5\" class=\"col_heading level0 col5\" >box_width</th>\n      <th id=\"T_4fead_level0_col6\" class=\"col_heading level0 col6\" >box_height</th>\n      <th id=\"T_4fead_level0_col7\" class=\"col_heading level0 col7\" >children_ids</th>\n      <th id=\"T_4fead_level0_col8\" class=\"col_heading level0 col8\" >confidence</th>\n      <th id=\"T_4fead_level0_col9\" class=\"col_heading level0 col9\" >parent_id</th>\n      <th id=\"T_4fead_level0_col10\" class=\"col_heading level0 col10\" colspan=\"19\">attributes</th>\n    </tr>\n    <tr>\n      <th class=\"blank level1\" >&nbsp;</th>\n      <th id=\"T_4fead_level1_col0\" class=\"col_heading level1 col0\" ></th>\n      <th id=\"T_4fead_level1_col1\" class=\"col_heading level1 col1\" ></th>\n      <th id=\"T_4fead_level1_col2\" class=\"col_heading level1 col2\" ></th>\n      <th id=\"T_4fead_level1_col3\" class=\"col_heading level1 col3\" ></th>\n      <th id=\"T_4fead_level1_col4\" class=\"col_heading level1 col4\" ></th>\n      <th id=\"T_4fead_level1_col5\" class=\"col_heading level1 col5\" ></th>\n      <th id=\"T_4fead_level1_col6\" class=\"col_heading level1 col6\" ></th>\n      <th id=\"T_4fead_level1_col7\" class=\"col_heading level1 col7\" ></th>\n      <th id=\"T_4fead_level1_col8\" class=\"col_heading level1 col8\" ></th>\n      <th id=\"T_4fead_level1_col9\" class=\"col_heading level1 col9\" ></th>\n      <th id=\"T_4fead_level1_col10\" class=\"col_heading level1 col10\" >occluded</th>\n      <th id=\"T_4fead_level1_col11\" class=\"col_heading level1 col11\" colspan=\"13\">colors</th>\n      <th id=\"T_4fead_level1_col24\" class=\"col_heading level1 col24\" colspan=\"5\">position</th>\n    </tr>\n    <tr>\n      <th class=\"blank level2\" >&nbsp;</th>\n      <th id=\"T_4fead_level2_col0\" class=\"col_heading level2 col0\" ></th>\n      <th id=\"T_4fead_level2_col1\" class=\"col_heading level2 col1\" ></th>\n      <th id=\"T_4fead_level2_col2\" class=\"col_heading level2 col2\" ></th>\n      <th id=\"T_4fead_level2_col3\" class=\"col_heading level2 col3\" ></th>\n      <th id=\"T_4fead_level2_col4\" class=\"col_heading level2 col4\" ></th>\n      <th id=\"T_4fead_level2_col5\" class=\"col_heading level2 col5\" ></th>\n      <th id=\"T_4fead_level2_col6\" class=\"col_heading level2 col6\" ></th>\n      <th id=\"T_4fead_level2_col7\" class=\"col_heading level2 col7\" ></th>\n      <th id=\"T_4fead_level2_col8\" class=\"col_heading level2 col8\" ></th>\n      <th id=\"T_4fead_level2_col9\" class=\"col_heading level2 col9\" ></th>\n      <th id=\"T_4fead_level2_col10\" class=\"col_heading level2 col10\" ></th>\n      <th id=\"T_4fead_level2_col11\" class=\"col_heading level2 col11\" >beige</th>\n      <th id=\"T_4fead_level2_col12\" class=\"col_heading level2 col12\" >black</th>\n      <th id=\"T_4fead_level2_col13\" class=\"col_heading level2 col13\" >blue</th>\n      <th id=\"T_4fead_level2_col14\" class=\"col_heading level2 col14\" >brown</th>\n      <th id=\"T_4fead_level2_col15\" class=\"col_heading level2 col15\" >cyan</th>\n      <th id=\"T_4fead_level2_col16\" class=\"col_heading level2 col16\" >green</th>\n      <th id=\"T_4fead_level2_col17\" class=\"col_heading level2 col17\" >grey</th>\n      <th id=\"T_4fead_level2_col18\" class=\"col_heading level2 col18\" >orange</th>\n      <th id=\"T_4fead_level2_col19\" class=\"col_heading level2 col19\" >pink</th>\n      <th id=\"T_4fead_level2_col20\" class=\"col_heading level2 col20\" >purple</th>\n      <th id=\"T_4fead_level2_col21\" class=\"col_heading level2 col21\" >red</th>\n      <th id=\"T_4fead_level2_col22\" class=\"col_heading level2 col22\" >turquoise</th>\n      <th id=\"T_4fead_level2_col23\" class=\"col_heading level2 col23\" >yellow</th>\n      <th id=\"T_4fead_level2_col24\" class=\"col_heading level2 col24\" >back</th>\n      <th id=\"T_4fead_level2_col25\" class=\"col_heading level2 col25\" >front</th>\n      <th id=\"T_4fead_level2_col26\" class=\"col_heading level2 col26\" >side</th>\n      <th id=\"T_4fead_level2_col27\" class=\"col_heading level2 col27\" >top</th>\n      <th id=\"T_4fead_level2_col28\" class=\"col_heading level2 col28\" >unknown</th>\n    </tr>\n    <tr>\n      <th class=\"index_name level0\" >id</th>\n      <th class=\"blank col0\" >&nbsp;</th>\n      <th class=\"blank col1\" >&nbsp;</th>\n      <th class=\"blank col2\" >&nbsp;</th>\n      <th class=\"blank col3\" >&nbsp;</th>\n      <th class=\"blank col4\" >&nbsp;</th>\n      <th class=\"blank col5\" >&nbsp;</th>\n      <th class=\"blank col6\" >&nbsp;</th>\n      <th class=\"blank col7\" >&nbsp;</th>\n      <th class=\"blank col8\" >&nbsp;</th>\n      <th class=\"blank col9\" >&nbsp;</th>\n      <th class=\"blank col10\" >&nbsp;</th>\n      <th class=\"blank col11\" >&nbsp;</th>\n      <th class=\"blank col12\" >&nbsp;</th>\n      <th class=\"blank col13\" >&nbsp;</th>\n      <th class=\"blank col14\" >&nbsp;</th>\n      <th class=\"blank col15\" >&nbsp;</th>\n      <th class=\"blank col16\" >&nbsp;</th>\n      <th class=\"blank col17\" >&nbsp;</th>\n      <th class=\"blank col18\" >&nbsp;</th>\n      <th class=\"blank col19\" >&nbsp;</th>\n      <th class=\"blank col20\" >&nbsp;</th>\n      <th class=\"blank col21\" >&nbsp;</th>\n      <th class=\"blank col22\" >&nbsp;</th>\n      <th class=\"blank col23\" >&nbsp;</th>\n      <th class=\"blank col24\" >&nbsp;</th>\n      <th class=\"blank col25\" >&nbsp;</th>\n      <th class=\"blank col26\" >&nbsp;</th>\n      <th class=\"blank col27\" >&nbsp;</th>\n      <th class=\"blank col28\" >&nbsp;</th>\n    </tr>\n  </thead>\n  <tbody>\n    <tr>\n      <th id=\"T_4fead_level0_row0\" class=\"row_heading level0 row0\" >0</th>\n      <td id=\"T_4fead_row0_col0\" class=\"data row0 col0\" >200</td>\n      <td id=\"T_4fead_row0_col1\" class=\"data row0 col1\" >person</td>\n      <td id=\"T_4fead_row0_col2\" class=\"data row0 col2\" >2</td>\n      <td id=\"T_4fead_row0_col3\" class=\"data row0 col3\" >1256.000000</td>\n      <td id=\"T_4fead_row0_col4\" class=\"data row0 col4\" >202.000000</td>\n      <td id=\"T_4fead_row0_col5\" class=\"data row0 col5\" >59.000000</td>\n      <td id=\"T_4fead_row0_col6\" class=\"data row0 col6\" >47.000000</td>\n      <td id=\"T_4fead_row0_col7\" class=\"data row0 col7\" >[]</td>\n      <td id=\"T_4fead_row0_col8\" class=\"data row0 col8\" >0.500000</td>\n      <td id=\"T_4fead_row0_col9\" class=\"data row0 col9\" >1</td>\n      <td id=\"T_4fead_row0_col10\" class=\"data row0 col10\" >True</td>\n      <td id=\"T_4fead_row0_col11\" class=\"data row0 col11\" >False</td>\n      <td id=\"T_4fead_row0_col12\" class=\"data row0 col12\" >False</td>\n      <td id=\"T_4fead_row0_col13\" class=\"data row0 col13\" >True</td>\n      <td id=\"T_4fead_row0_col14\" class=\"data row0 col14\" >False</td>\n      <td id=\"T_4fead_row0_col15\" class=\"data row0 col15\" >False</td>\n      <td id=\"T_4fead_row0_col16\" class=\"data row0 col16\" >False</td>\n      <td id=\"T_4fead_row0_col17\" class=\"data row0 col17\" >False</td>\n      <td id=\"T_4fead_row0_col18\" class=\"data row0 col18\" >False</td>\n      <td id=\"T_4fead_row0_col19\" class=\"data row0 col19\" >False</td>\n      <td id=\"T_4fead_row0_col20\" class=\"data row0 col20\" >False</td>\n      <td id=\"T_4fead_row0_col21\" class=\"data row0 col21\" >False</td>\n      <td id=\"T_4fead_row0_col22\" class=\"data row0 col22\" >True</td>\n      <td id=\"T_4fead_row0_col23\" class=\"data row0 col23\" >False</td>\n      <td id=\"T_4fead_row0_col24\" class=\"data row0 col24\" >False</td>\n      <td id=\"T_4fead_row0_col25\" class=\"data row0 col25\" >False</td>\n      <td id=\"T_4fead_row0_col26\" class=\"data row0 col26\" >False</td>\n      <td id=\"T_4fead_row0_col27\" class=\"data row0 col27\" >False</td>\n      <td id=\"T_4fead_row0_col28\" class=\"data row0 col28\" >False</td>\n    </tr>\n    <tr>\n      <th id=\"T_4fead_level0_row1\" class=\"row_heading level0 row1\" >1</th>\n      <td id=\"T_4fead_row1_col0\" class=\"data row1 col0\" >200</td>\n      <td id=\"T_4fead_row1_col1\" class=\"data row1 col1\" >head</td>\n      <td id=\"T_4fead_row1_col2\" class=\"data row1 col2\" >800</td>\n      <td id=\"T_4fead_row1_col3\" class=\"data row1 col3\" >1256.000000</td>\n      <td id=\"T_4fead_row1_col4\" class=\"data row1 col4\" >202.000000</td>\n      <td id=\"T_4fead_row1_col5\" class=\"data row1 col5\" >59.000000</td>\n      <td id=\"T_4fead_row1_col6\" class=\"data row1 col6\" >47.000000</td>\n      <td id=\"T_4fead_row1_col7\" class=\"data row1 col7\" >[0]</td>\n      <td id=\"T_4fead_row1_col8\" class=\"data row1 col8\" >nan</td>\n      <td id=\"T_4fead_row1_col9\" class=\"data row1 col9\" ><NA></td>\n      <td id=\"T_4fead_row1_col10\" class=\"data row1 col10\" >None</td>\n      <td id=\"T_4fead_row1_col11\" class=\"data row1 col11\" >False</td>\n      <td id=\"T_4fead_row1_col12\" class=\"data row1 col12\" >False</td>\n      <td id=\"T_4fead_row1_col13\" class=\"data row1 col13\" >False</td>\n      <td id=\"T_4fead_row1_col14\" class=\"data row1 col14\" >False</td>\n      <td id=\"T_4fead_row1_col15\" class=\"data row1 col15\" >False</td>\n      <td id=\"T_4fead_row1_col16\" class=\"data row1 col16\" >False</td>\n      <td id=\"T_4fead_row1_col17\" class=\"data row1 col17\" >False</td>\n      <td id=\"T_4fead_row1_col18\" class=\"data row1 col18\" >False</td>\n      <td id=\"T_4fead_row1_col19\" class=\"data row1 col19\" >False</td>\n      <td id=\"T_4fead_row1_col20\" class=\"data row1 col20\" >False</td>\n      <td id=\"T_4fead_row1_col21\" class=\"data row1 col21\" >False</td>\n      <td id=\"T_4fead_row1_col22\" class=\"data row1 col22\" >False</td>\n      <td id=\"T_4fead_row1_col23\" class=\"data row1 col23\" >False</td>\n      <td id=\"T_4fead_row1_col24\" class=\"data row1 col24\" >False</td>\n      <td id=\"T_4fead_row1_col25\" class=\"data row1 col25\" >False</td>\n      <td id=\"T_4fead_row1_col26\" class=\"data row1 col26\" >True</td>\n      <td id=\"T_4fead_row1_col27\" class=\"data row1 col27\" >False</td>\n      <td id=\"T_4fead_row1_col28\" class=\"data row1 col28\" >False</td>\n    </tr>\n  </tbody>\n</table>\n",
          "text/plain": "<pandas.io.formats.style.Styler at 0x303cf26d0>"
         },
         "metadata": {},
         "output_type": "display_data"
        }
       ]
      }
     },
     "8d6199a3871349debdfc0cb8897ea864": {
      "model_module": "@jupyter-widgets/base",
      "model_module_version": "2.0.0",
      "model_name": "LayoutModel",
      "state": {}
     },
     "8de82515a9794723b9c81fb955f3e289": {
      "model_module": "@jupyter-widgets/base",
      "model_module_version": "2.0.0",
      "model_name": "LayoutModel",
      "state": {}
     },
     "8f894354dd5d49e98c0ee8bf67ee743b": {
      "model_module": "@jupyter-widgets/controls",
      "model_module_version": "2.0.0",
      "model_name": "DescriptionStyleModel",
      "state": {
       "description_width": ""
      }
     },
     "9008e4454f0241458be4b73eaa693dc3": {
      "model_module": "@jupyter-widgets/controls",
      "model_module_version": "2.0.0",
      "model_name": "HTMLStyleModel",
      "state": {
       "description_width": "",
       "font_size": null,
       "text_color": null
      }
     },
     "945580f822df48c486846b21da68dad3": {
      "model_module": "@jupyter-widgets/base",
      "model_module_version": "2.0.0",
      "model_name": "LayoutModel",
      "state": {}
     },
     "94f9c5f8a41d4892a49c34eeadf16df4": {
      "model_module": "@jupyter-widgets/base",
      "model_module_version": "2.0.0",
      "model_name": "LayoutModel",
      "state": {
       "width": "auto"
      }
     },
     "9697d7c26c324dbfb89d987d7983571f": {
      "model_module": "@jupyter-widgets/base",
      "model_module_version": "2.0.0",
      "model_name": "LayoutModel",
      "state": {}
     },
     "9d8a7b299a9f4d598e0e1c69bde24923": {
      "model_module": "@jupyter-widgets/controls",
      "model_module_version": "2.0.0",
      "model_name": "HTMLModel",
      "state": {
       "layout": "IPY_MODEL_cb66a7ceaa5941078911876f1a396f5d",
       "style": "IPY_MODEL_9008e4454f0241458be4b73eaa693dc3",
       "value": "100%"
      }
     },
     "a0ac4aaf7a5449e09f480e6201bc05cb": {
      "model_module": "@jupyter-widgets/controls",
      "model_module_version": "2.0.0",
      "model_name": "StackModel",
      "state": {
       "children": [
        "IPY_MODEL_b419179e66264c568b48400f27e214bf",
        "IPY_MODEL_5a93db12b02c4a8999caa5b9011074f6"
       ],
       "layout": "IPY_MODEL_f7d6302323bf4bfb93145887943d8696",
       "selected_index": 0,
       "titles": [
        "",
        ""
       ]
      }
     },
     "a4b5e8b0543546479436bf4508650eb2": {
      "model_module": "@jupyter-widgets/output",
      "model_module_version": "1.0.0",
      "model_name": "OutputModel",
      "state": {
       "layout": "IPY_MODEL_9697d7c26c324dbfb89d987d7983571f",
       "outputs": [
        {
         "data": {
          "text/html": "<style type=\"text/css\">\n#T_7f626 th {\n  border-right: 1px solid #F0F0F0;\n}\n</style>\n<table id=\"T_7f626\">\n  <thead>\n    <tr>\n      <th class=\"blank level0\" >&nbsp;</th>\n      <th id=\"T_7f626_level0_col0\" class=\"col_heading level0 col0\" >width</th>\n      <th id=\"T_7f626_level0_col1\" class=\"col_heading level0 col1\" >height</th>\n      <th id=\"T_7f626_level0_col2\" class=\"col_heading level0 col2\" >relative_path</th>\n      <th id=\"T_7f626_level0_col3\" class=\"col_heading level0 col3\" >type</th>\n      <th id=\"T_7f626_level0_col4\" class=\"col_heading level0 col4\" colspan=\"2\">tags</th>\n    </tr>\n    <tr>\n      <th class=\"blank level1\" >&nbsp;</th>\n      <th id=\"T_7f626_level1_col0\" class=\"col_heading level1 col0\" ></th>\n      <th id=\"T_7f626_level1_col1\" class=\"col_heading level1 col1\" ></th>\n      <th id=\"T_7f626_level1_col2\" class=\"col_heading level1 col2\" ></th>\n      <th id=\"T_7f626_level1_col3\" class=\"col_heading level1 col3\" ></th>\n      <th id=\"T_7f626_level1_col4\" class=\"col_heading level1 col4\" >time</th>\n      <th id=\"T_7f626_level1_col5\" class=\"col_heading level1 col5\" >weather</th>\n    </tr>\n    <tr>\n      <th class=\"index_name level0\" >id</th>\n      <th class=\"blank col0\" >&nbsp;</th>\n      <th class=\"blank col1\" >&nbsp;</th>\n      <th class=\"blank col2\" >&nbsp;</th>\n      <th class=\"blank col3\" >&nbsp;</th>\n      <th class=\"blank col4\" >&nbsp;</th>\n      <th class=\"blank col5\" >&nbsp;</th>\n    </tr>\n  </thead>\n  <tbody>\n    <tr>\n      <th id=\"T_7f626_level0_row0\" class=\"row_heading level0 row0\" >200</th>\n      <td id=\"T_7f626_row0_col0\" class=\"data row0 col0\" >640</td>\n      <td id=\"T_7f626_row0_col1\" class=\"data row0 col1\" >427</td>\n      <td id=\"T_7f626_row0_col2\" class=\"data row0 col2\" >785.jpg</td>\n      <td id=\"T_7f626_row0_col3\" class=\"data row0 col3\" >.jpg</td>\n      <td id=\"T_7f626_row0_col4\" class=\"data row0 col4\" >day</td>\n      <td id=\"T_7f626_row0_col5\" class=\"data row0 col5\" >sunny</td>\n    </tr>\n  </tbody>\n</table>\n",
          "text/plain": "<pandas.io.formats.style.Styler at 0x3032f25d0>"
         },
         "metadata": {},
         "output_type": "display_data"
        }
       ]
      }
     },
     "a6996a82cace49d999cbed1a4fb0abdb": {
      "model_module": "@jupyter-widgets/base",
      "model_module_version": "2.0.0",
      "model_name": "LayoutModel",
      "state": {}
     },
     "a6a54532063d4f2192b6d2789bdf1084": {
      "model_module": "@jupyter-widgets/controls",
      "model_module_version": "2.0.0",
      "model_name": "FloatProgressModel",
      "state": {
       "bar_style": "success",
       "layout": "IPY_MODEL_816bc188d37b45989b66a38657e2ced7",
       "max": 2,
       "style": "IPY_MODEL_aaeb1b50dce7497a834f277eb76482ed",
       "value": 2
      }
     },
     "a6d2854c1f394f7792db677090d9ae79": {
      "model_module": "@jupyter-widgets/base",
      "model_module_version": "2.0.0",
      "model_name": "LayoutModel",
      "state": {}
     },
     "a9f9a646f9374a3ba733d2a07dc17c92": {
      "model_module": "@jupyter-widgets/controls",
      "model_module_version": "2.0.0",
      "model_name": "FloatProgressModel",
      "state": {
       "bar_style": "success",
       "layout": "IPY_MODEL_84100c7e780c4dd6909bd6fe2f99ca2d",
       "max": 1,
       "style": "IPY_MODEL_ffce6b7069e64cc5bbf0f7f20f48ccfd",
       "value": 1
      }
     },
     "aaeb1b50dce7497a834f277eb76482ed": {
      "model_module": "@jupyter-widgets/controls",
      "model_module_version": "2.0.0",
      "model_name": "ProgressStyleModel",
      "state": {
       "description_width": ""
      }
     },
     "ab5f61a0128345cda42a8ef8cd5e4e0c": {
      "model_module": "@jupyter-widgets/controls",
      "model_module_version": "2.0.0",
      "model_name": "HTMLModel",
      "state": {
       "layout": "IPY_MODEL_0472a0c52b384c20bac6bba7be697d7a",
       "style": "IPY_MODEL_1613cfa2cd45417ba93de2b5ce06cff1",
       "value": " 1/1 [00:00&lt;00:00, 268.30it/s]"
      }
     },
     "ac4ff6daf42a4e38866e6307e6423c1c": {
      "model_module": "@jupyter-widgets/base",
      "model_module_version": "2.0.0",
      "model_name": "LayoutModel",
      "state": {}
     },
     "add0fbf1df5b43c3905fb329c24f0c7c": {
      "model_module": "@jupyter-widgets/controls",
      "model_module_version": "2.0.0",
      "model_name": "HTMLModel",
      "state": {
       "layout": "IPY_MODEL_0778ae2a76624d2bb213cfd3edc6b0c0",
       "style": "IPY_MODEL_fd7fe384d24740a4a794e1033ccc4418",
       "value": "100%"
      }
     },
     "afa310091e6746029cdf6a67d3c64810": {
      "model_module": "@jupyter-widgets/controls",
      "model_module_version": "2.0.0",
      "model_name": "HTMLStyleModel",
      "state": {
       "description_width": "",
       "font_size": null,
       "text_color": null
      }
     },
     "b149b4fbbecc4014ba875fc52e4bae83": {
      "model_module": "@jupyter-widgets/controls",
      "model_module_version": "2.0.0",
      "model_name": "LinkModel",
      "state": {
       "source": [
        "IPY_MODEL_ed741ca35a4d43d381ed7b2535bf8072",
        "index"
       ],
       "target": [
        "IPY_MODEL_3386375631aa45338f7e9edce9b94b09",
        "selected_index"
       ]
      }
     },
     "b419179e66264c568b48400f27e214bf": {
      "model_module": "@jupyter-widgets/output",
      "model_module_version": "1.0.0",
      "model_name": "OutputModel",
      "state": {
       "layout": "IPY_MODEL_daa90d3456594b8283afa01d77962bb8",
       "outputs": [
        {
         "data": {
          "text/html": "<div>\n<style scoped>\n    .dataframe tbody tr th:only-of-type {\n        vertical-align: middle;\n    }\n\n    .dataframe tbody tr th {\n        vertical-align: top;\n    }\n\n    .dataframe thead th {\n        text-align: right;\n    }\n</style>\n<table border=\"1\" class=\"dataframe\">\n  <thead>\n    <tr style=\"text-align: right;\">\n      <th></th>\n      <th>width</th>\n      <th>height</th>\n      <th>relative_path</th>\n      <th>type</th>\n      <th>tags.time</th>\n      <th>tags.weather</th>\n    </tr>\n    <tr>\n      <th>id</th>\n      <th></th>\n      <th></th>\n      <th></th>\n      <th></th>\n      <th></th>\n      <th></th>\n    </tr>\n  </thead>\n  <tbody>\n    <tr>\n      <th>200</th>\n      <td>640</td>\n      <td>427</td>\n      <td>785.jpg</td>\n      <td>.jpg</td>\n      <td>day</td>\n      <td>sunny</td>\n    </tr>\n  </tbody>\n</table>\n</div>",
          "text/plain": "     width  height relative_path  type tags.time tags.weather\nid                                                           \n200    640     427       785.jpg  .jpg       day        sunny"
         },
         "metadata": {},
         "output_type": "display_data"
        }
       ]
      }
     },
     "b812c9c9a28e4f659fef5b2664c63d45": {
      "model_module": "@jupyter-widgets/base",
      "model_module_version": "2.0.0",
      "model_name": "LayoutModel",
      "state": {}
     },
     "b980a535007f4e8e829e31917b4bf732": {
      "model_module": "@jupyter-widgets/controls",
      "model_module_version": "2.0.0",
      "model_name": "LinkModel",
      "state": {
       "source": [
        "IPY_MODEL_549d413cb13845379ee6a3a78e409fd7",
        "index"
       ],
       "target": [
        "IPY_MODEL_7ba1e595d0cd4e33a38718af458506e8",
        "selected_index"
       ]
      }
     },
     "beaa9f3a774e4f73aa85f825e5f82648": {
      "model_module": "@jupyter-widgets/base",
      "model_module_version": "2.0.0",
      "model_name": "LayoutModel",
      "state": {}
     },
     "c01cc6cb84634d7681bec200fbf7c97c": {
      "model_module": "@jupyter-widgets/base",
      "model_module_version": "2.0.0",
      "model_name": "LayoutModel",
      "state": {}
     },
     "c4a7b899fde3414fb88c7a3fa4e993c7": {
      "model_module": "@jupyter-widgets/controls",
      "model_module_version": "2.0.0",
      "model_name": "HTMLStyleModel",
      "state": {
       "description_width": "",
       "font_size": null,
       "text_color": null
      }
     },
     "c6e6d89936094b358cf8e337738c153b": {
      "model_module": "@jupyter-widgets/controls",
      "model_module_version": "2.0.0",
      "model_name": "HTMLStyleModel",
      "state": {
       "description_width": "",
       "font_size": null,
       "text_color": null
      }
     },
     "c88961be156e4788a619d140851f9332": {
      "model_module": "@jupyter-widgets/controls",
      "model_module_version": "2.0.0",
      "model_name": "ProgressStyleModel",
      "state": {
       "description_width": ""
      }
     },
     "c99c8c543aef4dffb302a9e9063cb3dc": {
      "model_module": "@jupyter-widgets/base",
      "model_module_version": "2.0.0",
      "model_name": "LayoutModel",
      "state": {}
     },
     "caa0b80e1eca4d8bb201d7564db9c8cf": {
      "model_module": "@jupyter-widgets/controls",
      "model_module_version": "2.0.0",
      "model_name": "LabelModel",
      "state": {
       "layout": "IPY_MODEL_34c1d2ad78204bc7aa3de0d414b0fe0b",
       "style": "IPY_MODEL_08145d806a2e44a2b0c0b5b53c16e157",
       "value": "Column format"
      }
     },
     "cb0353c3b3d9478eb7698c58c9baf2d7": {
      "model_module": "@jupyter-widgets/controls",
      "model_module_version": "2.0.0",
      "model_name": "TabModel",
      "state": {
       "children": [
        "IPY_MODEL_f56bbc59797e43dabe586dfc62e624ce",
        "IPY_MODEL_e6ad46ef21fb44d394b1bb05d9317fc7",
        "IPY_MODEL_7b411ff204894507b1e05046a27c96d6"
       ],
       "layout": "IPY_MODEL_df339ee1ee724facb026e650075d1fa6",
       "selected_index": 0,
       "titles": [
        "Images",
        "Annotations",
        "Label Map"
       ]
      }
     },
     "cb66a7ceaa5941078911876f1a396f5d": {
      "model_module": "@jupyter-widgets/base",
      "model_module_version": "2.0.0",
      "model_name": "LayoutModel",
      "state": {}
     },
     "cf3ed0b8ec2f4217ba17c19b04a07dbd": {
      "model_module": "@jupyter-widgets/base",
      "model_module_version": "2.0.0",
      "model_name": "LayoutModel",
      "state": {}
     },
     "d000be4f92144f4b9c8bb566c3ffe3d3": {
      "model_module": "@jupyter-widgets/controls",
      "model_module_version": "2.0.0",
      "model_name": "HTMLModel",
      "state": {
       "layout": "IPY_MODEL_8cafb999451f4221a8124d400bc0a55d",
       "style": "IPY_MODEL_1905b37bd49745b2a2e7458d07b4ce10",
       "value": "  0%"
      }
     },
     "d19def3b87944cc99f9185b90eb2188f": {
      "model_module": "@jupyter-widgets/base",
      "model_module_version": "2.0.0",
      "model_name": "LayoutModel",
      "state": {}
     },
     "d35853516d0d4a2fa78b663d9a02bec6": {
      "model_module": "@jupyter-widgets/base",
      "model_module_version": "2.0.0",
      "model_name": "LayoutModel",
      "state": {}
     },
     "d91f4d2ae06c4d4aac4159000b6311a6": {
      "model_module": "@jupyter-widgets/output",
      "model_module_version": "1.0.0",
      "model_name": "OutputModel",
      "state": {
       "layout": "IPY_MODEL_d35853516d0d4a2fa78b663d9a02bec6",
       "outputs": [
        {
         "data": {
          "text/html": "<div>\n<style scoped>\n    .dataframe tbody tr th:only-of-type {\n        vertical-align: middle;\n    }\n\n    .dataframe tbody tr th {\n        vertical-align: top;\n    }\n\n    .dataframe thead th {\n        text-align: right;\n    }\n</style>\n<table border=\"1\" class=\"dataframe\">\n  <thead>\n    <tr style=\"text-align: right;\">\n      <th></th>\n      <th>image_id</th>\n      <th>category_str</th>\n      <th>category_id</th>\n      <th>box_x_min</th>\n      <th>box_y_min</th>\n      <th>box_width</th>\n      <th>box_height</th>\n      <th>children_ids</th>\n      <th>confidence</th>\n      <th>parent_id</th>\n      <th>...</th>\n      <th>attributes.colors.pink</th>\n      <th>attributes.colors.purple</th>\n      <th>attributes.colors.red</th>\n      <th>attributes.colors.turquoise</th>\n      <th>attributes.colors.yellow</th>\n      <th>attributes.position.back</th>\n      <th>attributes.position.front</th>\n      <th>attributes.position.side</th>\n      <th>attributes.position.top</th>\n      <th>attributes.position.unknown</th>\n    </tr>\n    <tr>\n      <th>id</th>\n      <th></th>\n      <th></th>\n      <th></th>\n      <th></th>\n      <th></th>\n      <th></th>\n      <th></th>\n      <th></th>\n      <th></th>\n      <th></th>\n      <th></th>\n      <th></th>\n      <th></th>\n      <th></th>\n      <th></th>\n      <th></th>\n      <th></th>\n      <th></th>\n      <th></th>\n      <th></th>\n      <th></th>\n    </tr>\n  </thead>\n  <tbody>\n    <tr>\n      <th>0</th>\n      <td>200</td>\n      <td>person</td>\n      <td>2</td>\n      <td>1256.0</td>\n      <td>202.0</td>\n      <td>59.0</td>\n      <td>47.0</td>\n      <td>[]</td>\n      <td>0.5</td>\n      <td>1</td>\n      <td>...</td>\n      <td>False</td>\n      <td>False</td>\n      <td>False</td>\n      <td>True</td>\n      <td>False</td>\n      <td>False</td>\n      <td>False</td>\n      <td>False</td>\n      <td>False</td>\n      <td>False</td>\n    </tr>\n    <tr>\n      <th>1</th>\n      <td>200</td>\n      <td>head</td>\n      <td>800</td>\n      <td>1256.0</td>\n      <td>202.0</td>\n      <td>59.0</td>\n      <td>47.0</td>\n      <td>[0]</td>\n      <td>NaN</td>\n      <td>&lt;NA&gt;</td>\n      <td>...</td>\n      <td>False</td>\n      <td>False</td>\n      <td>False</td>\n      <td>False</td>\n      <td>False</td>\n      <td>False</td>\n      <td>False</td>\n      <td>True</td>\n      <td>False</td>\n      <td>False</td>\n    </tr>\n  </tbody>\n</table>\n<p>2 rows × 29 columns</p>\n</div>",
          "text/plain": "    image_id category_str  category_id  box_x_min  box_y_min  box_width  \\\nid                                                                        \n0        200       person            2     1256.0      202.0       59.0   \n1        200         head          800     1256.0      202.0       59.0   \n\n    box_height children_ids  confidence  parent_id  ...  \\\nid                                                  ...   \n0         47.0           []         0.5          1  ...   \n1         47.0          [0]         NaN       <NA>  ...   \n\n   attributes.colors.pink  attributes.colors.purple  attributes.colors.red  \\\nid                                                                           \n0                   False                     False                  False   \n1                   False                     False                  False   \n\n    attributes.colors.turquoise  attributes.colors.yellow  \\\nid                                                          \n0                          True                     False   \n1                         False                     False   \n\n    attributes.position.back  attributes.position.front  \\\nid                                                        \n0                      False                      False   \n1                      False                      False   \n\n    attributes.position.side  attributes.position.top  \\\nid                                                      \n0                      False                    False   \n1                       True                    False   \n\n    attributes.position.unknown  \nid                               \n0                         False  \n1                         False  \n\n[2 rows x 29 columns]"
         },
         "metadata": {},
         "output_type": "display_data"
        }
       ]
      }
     },
     "daa90d3456594b8283afa01d77962bb8": {
      "model_module": "@jupyter-widgets/base",
      "model_module_version": "2.0.0",
      "model_name": "LayoutModel",
      "state": {}
     },
     "df339ee1ee724facb026e650075d1fa6": {
      "model_module": "@jupyter-widgets/base",
      "model_module_version": "2.0.0",
      "model_name": "LayoutModel",
      "state": {}
     },
     "e14b398b9ec5451ca69dcce3c74f9d6a": {
      "model_module": "@jupyter-widgets/controls",
      "model_module_version": "2.0.0",
      "model_name": "HTMLModel",
      "state": {
       "layout": "IPY_MODEL_4e6a9a7046c54d3dbc3a36ce7d9d01e0",
       "style": "IPY_MODEL_132a6bc35e734f4f83266d240d1cd744",
       "value": " 2/2 [00:00&lt;00:00, 244.85it/s]"
      }
     },
     "e6ad46ef21fb44d394b1bb05d9317fc7": {
      "model_module": "@jupyter-widgets/output",
      "model_module_version": "1.0.0",
      "model_name": "OutputModel",
      "state": {
       "layout": "IPY_MODEL_494095efddbe4d71b61a012fbf915854",
       "outputs": [
        {
         "data": {
          "application/vnd.jupyter.widget-view+json": {
           "model_id": "6c6919eb334f47be98faf5ba28ec0e33",
           "version_major": 2,
           "version_minor": 0
          },
          "text/plain": "VBox(children=(HBox(children=(VBox(children=(Label(value='Booleanize'), Label(value='Column format'))), VBox(c…"
         },
         "metadata": {},
         "output_type": "display_data"
        }
       ]
      }
     },
     "e6fbb2d2b90b4174ab7da2bc3c0fb06e": {
      "model_module": "@jupyter-widgets/base",
      "model_module_version": "2.0.0",
      "model_name": "LayoutModel",
      "state": {}
     },
     "e86cdb20f4494218bb77df42d5f395a7": {
      "model_module": "@jupyter-widgets/controls",
      "model_module_version": "2.0.0",
      "model_name": "HBoxModel",
      "state": {
       "children": [
        "IPY_MODEL_9d8a7b299a9f4d598e0e1c69bde24923",
        "IPY_MODEL_a9f9a646f9374a3ba733d2a07dc17c92",
        "IPY_MODEL_ab5f61a0128345cda42a8ef8cd5e4e0c"
       ],
       "layout": "IPY_MODEL_88cba09fff7143e286cdcf19e8456a78"
      }
     },
     "e8bbf1c121694b819c95b56fce893fb2": {
      "model_module": "@jupyter-widgets/controls",
      "model_module_version": "2.0.0",
      "model_name": "HBoxModel",
      "state": {
       "children": [
        "IPY_MODEL_d000be4f92144f4b9c8bb566c3ffe3d3",
        "IPY_MODEL_49005d311ed749579739e17178d63113",
        "IPY_MODEL_4c99ce4d531d4c93962e9128578d845e"
       ],
       "layout": "IPY_MODEL_62af9d68b3f64503919bd7735e1967ea"
      }
     },
     "ed741ca35a4d43d381ed7b2535bf8072": {
      "model_module": "@jupyter-widgets/controls",
      "model_module_version": "2.0.0",
      "model_name": "ToggleButtonsModel",
      "state": {
       "_options_labels": [
        "yes ",
        "no "
       ],
       "button_style": "",
       "icons": [
        "check",
        "times"
       ],
       "index": 0,
       "layout": "IPY_MODEL_94f9c5f8a41d4892a49c34eeadf16df4",
       "style": "IPY_MODEL_339a0f00e9824c288198159a2f73f01e",
       "tooltips": []
      }
     },
     "ee240d46f88a48a1bcbc6fb7e7dd7314": {
      "model_module": "@jupyter-widgets/base",
      "model_module_version": "2.0.0",
      "model_name": "LayoutModel",
      "state": {}
     },
     "efdd0543154c41419318d2792c78ffb1": {
      "model_module": "@jupyter-widgets/controls",
      "model_module_version": "2.0.0",
      "model_name": "VBoxModel",
      "state": {
       "children": [
        "IPY_MODEL_3c1d3ed53fcf45c8b92ac7eabb027f50",
        "IPY_MODEL_caa0b80e1eca4d8bb201d7564db9c8cf"
       ],
       "layout": "IPY_MODEL_cf3ed0b8ec2f4217ba17c19b04a07dbd"
      }
     },
     "f3133f171cfe43638d63c5cf30547758": {
      "model_module": "@jupyter-widgets/controls",
      "model_module_version": "2.0.0",
      "model_name": "LabelModel",
      "state": {
       "layout": "IPY_MODEL_e6fbb2d2b90b4174ab7da2bc3c0fb06e",
       "style": "IPY_MODEL_72fceef903164e3ea814bd95216dbc4f",
       "value": "Column format"
      }
     },
     "f56bbc59797e43dabe586dfc62e624ce": {
      "model_module": "@jupyter-widgets/output",
      "model_module_version": "1.0.0",
      "model_name": "OutputModel",
      "state": {
       "layout": "IPY_MODEL_0cab193239a241ffb35beb1b574f5c7b",
       "outputs": [
        {
         "data": {
          "application/vnd.jupyter.widget-view+json": {
           "model_id": "7067bdcd363a46de8a7715214354aad0",
           "version_major": 2,
           "version_minor": 0
          },
          "text/plain": "VBox(children=(HBox(children=(Label(value='Column format'), Dropdown(options=('raw', 'nested'), value='raw')))…"
         },
         "metadata": {},
         "output_type": "display_data"
        }
       ]
      }
     },
     "f7d6302323bf4bfb93145887943d8696": {
      "model_module": "@jupyter-widgets/base",
      "model_module_version": "2.0.0",
      "model_name": "LayoutModel",
      "state": {}
     },
     "f8058b4477c94a9facda7722e1640667": {
      "model_module": "@jupyter-widgets/base",
      "model_module_version": "2.0.0",
      "model_name": "LayoutModel",
      "state": {}
     },
     "f961f09764c94c2fa7b64cda94f2edcc": {
      "model_module": "@jupyter-widgets/controls",
      "model_module_version": "2.0.0",
      "model_name": "HTMLModel",
      "state": {
       "layout": "IPY_MODEL_8d6199a3871349debdfc0cb8897ea864",
       "style": "IPY_MODEL_afa310091e6746029cdf6a67d3c64810",
       "value": " 2/2 [00:00&lt;00:00, 373.42it/s]"
      }
     },
     "fd7fe384d24740a4a794e1033ccc4418": {
      "model_module": "@jupyter-widgets/controls",
      "model_module_version": "2.0.0",
      "model_name": "HTMLStyleModel",
      "state": {
       "description_width": "",
       "font_size": null,
       "text_color": null
      }
     },
     "ff0060cae9d94b33b4a5e385735a2438": {
      "model_module": "@jupyter-widgets/base",
      "model_module_version": "2.0.0",
      "model_name": "LayoutModel",
      "state": {}
     },
     "ffce6b7069e64cc5bbf0f7f20f48ccfd": {
      "model_module": "@jupyter-widgets/controls",
      "model_module_version": "2.0.0",
      "model_name": "ProgressStyleModel",
      "state": {
       "description_width": ""
      }
     }
    },
    "version_major": 2,
    "version_minor": 0
   }
  }
 },
 "nbformat": 4,
 "nbformat_minor": 5
}
